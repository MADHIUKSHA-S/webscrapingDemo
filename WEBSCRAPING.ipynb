{
  "nbformat": 4,
  "nbformat_minor": 0,
  "metadata": {
    "colab": {
      "provenance": []
    },
    "kernelspec": {
      "name": "python3",
      "display_name": "Python 3"
    },
    "language_info": {
      "name": "python"
    }
  },
  "cells": [
    {
      "cell_type": "code",
      "execution_count": null,
      "metadata": {
        "id": "waSLiWm5NhBa"
      },
      "outputs": [],
      "source": [
        "import requests\n",
        "from bs4 import BeautifulSoup"
      ]
    },
    {
      "cell_type": "code",
      "source": [
        "url = 'https://www.forbes.com/lists/cloud100/?sh=6636e5517d9c'\n",
        "response = requests.get(url)\n",
        "if response.status_code == 200:\n",
        "    soup = BeautifulSoup(response.text, 'html.parser')\n",
        "    title = soup.title.text\n",
        "    print(f'Title: {title}')"
      ],
      "metadata": {
        "colab": {
          "base_uri": "https://localhost:8080/"
        },
        "id": "rzUMY7V4RWSJ",
        "outputId": "97174625-a296-4e55-ca62-e84fb029862f"
      },
      "execution_count": null,
      "outputs": [
        {
          "output_type": "stream",
          "name": "stdout",
          "text": [
            "Title: The Cloud 100 2023\n"
          ]
        }
      ]
    },
    {
      "cell_type": "code",
      "source": [
        "\n",
        "contents = soup.find_all('div',class_='company')\n",
        "print(contents)"
      ],
      "metadata": {
        "colab": {
          "base_uri": "https://localhost:8080/"
        },
        "id": "Ni5YhFvcSYjj",
        "outputId": "d1819f0c-e4e5-478d-be4d-b34c3461240b"
      },
      "execution_count": null,
      "outputs": [
        {
          "output_type": "stream",
          "name": "stdout",
          "text": [
            "[<div class=\"organizationName second table-cell company\">OpenAI</div>, <div class=\"organizationName second table-cell company\">Databricks</div>, <div class=\"organizationName second table-cell company\">Stripe</div>, <div class=\"organizationName second table-cell company\">Canva</div>, <div class=\"organizationName second table-cell company\">ServiceTitan</div>, <div class=\"organizationName second table-cell company\">Klaviyo</div>, <div class=\"organizationName second table-cell company\">Grammarly</div>, <div class=\"organizationName second table-cell company\">Talkdesk</div>, <div class=\"organizationName second table-cell company\">Rubrik</div>, <div class=\"organizationName second table-cell company\">Miro</div>, <div class=\"organizationName second table-cell company\">Navan</div>, <div class=\"organizationName second table-cell company\">Netskope</div>, <div class=\"organizationName second table-cell company\">Tanium</div>, <div class=\"organizationName second table-cell company\">Attentive</div>, <div class=\"organizationName second table-cell company\">Wiz</div>, <div class=\"organizationName second table-cell company\">Carta</div>, <div class=\"organizationName second table-cell company\">Celonis</div>, <div class=\"organizationName second table-cell company\">Grafana Labs</div>, <div class=\"organizationName second table-cell company\">Snyk</div>, <div class=\"organizationName second table-cell company\">Benchling</div>, <div class=\"organizationName second table-cell company\">OneTrust</div>, <div class=\"organizationName second table-cell company\">Checkr</div>, <div class=\"organizationName second table-cell company\">Gong</div>, <div class=\"organizationName second table-cell company\">Zapier</div>, <div class=\"organizationName second table-cell company\">Dialpad</div>, <div class=\"organizationName second table-cell company\">Gusto</div>, <div class=\"organizationName second table-cell company\">AppsFlyer</div>, <div class=\"organizationName second table-cell company\">Airtable</div>, <div class=\"organizationName second table-cell company\">Arctic Wolf</div>, <div class=\"organizationName second table-cell company\">OutSystems</div>, <div class=\"organizationName second table-cell company\">Guild</div>, <div class=\"organizationName second table-cell company\">Motive</div>, <div class=\"organizationName second table-cell company\">Scale AI</div>, <div class=\"organizationName second table-cell company\">Calendly</div>, <div class=\"organizationName second table-cell company\">Notion</div>, <div class=\"organizationName second table-cell company\">Plaid</div>, <div class=\"organizationName second table-cell company\">Automation Anywhere</div>, <div class=\"organizationName second table-cell company\">Deel</div>, <div class=\"organizationName second table-cell company\">HighRadius</div>, <div class=\"organizationName second table-cell company\">Seismic</div>, <div class=\"organizationName second table-cell company\">Zoho</div>, <div class=\"organizationName second table-cell company\">Postman</div>, <div class=\"organizationName second table-cell company\">Workato</div>, <div class=\"organizationName second table-cell company\">Dataiku</div>, <div class=\"organizationName second table-cell company\">Cohesity</div>, <div class=\"organizationName second table-cell company\">Algolia</div>, <div class=\"organizationName second table-cell company\">Collibra</div>, <div class=\"organizationName second table-cell company\">Icertis</div>, <div class=\"organizationName second table-cell company\">Druva</div>, <div class=\"organizationName second table-cell company\">1Password</div>, <div class=\"organizationName second table-cell company\">Yardi</div>, <div class=\"organizationName second table-cell company\">Fivetran</div>, <div class=\"organizationName second table-cell company\">Checkout.com</div>, <div class=\"organizationName second table-cell company\">Rippling</div>, <div class=\"organizationName second table-cell company\">HiBob</div>, <div class=\"organizationName second table-cell company\">Komodo Health</div>, <div class=\"organizationName second table-cell company\">Outreach</div>, <div class=\"organizationName second table-cell company\">BrowserStack</div>, <div class=\"organizationName second table-cell company\">Webflow</div>, <div class=\"organizationName second table-cell company\">Pendo</div>, <div class=\"organizationName second table-cell company\">Lucid</div>, <div class=\"organizationName second table-cell company\">LaunchDarkly</div>, <div class=\"organizationName second table-cell company\">ClickUp</div>, <div class=\"organizationName second table-cell company\">Retool</div>, <div class=\"organizationName second table-cell company\">Razorpay</div>, <div class=\"organizationName second table-cell company\">Contentsquare</div>, <div class=\"organizationName second table-cell company\">6sense</div>, <div class=\"organizationName second table-cell company\">Automattic</div>, <div class=\"organizationName second table-cell company\">Papaya Global</div>, <div class=\"organizationName second table-cell company\">Yotpo</div>, <div class=\"organizationName second table-cell company\">Highspot</div>, <div class=\"organizationName second table-cell company\">OwnBackup</div>, <div class=\"organizationName second table-cell company\">Anthropic</div>, <div class=\"organizationName second table-cell company\">Sentry</div>, <div class=\"organizationName second table-cell company\">Chainalysis</div>, <div class=\"organizationName second table-cell company\">Forter</div>, <div class=\"organizationName second table-cell company\">Intercom</div>, <div class=\"organizationName second table-cell company\">Contentful</div>, <div class=\"organizationName second table-cell company\">Claroty</div>, <div class=\"organizationName second table-cell company\">Abnormal Security</div>, <div class=\"organizationName second table-cell company\">Cloudinary</div>, <div class=\"organizationName second table-cell company\">Vanta</div>, <div class=\"organizationName second table-cell company\">Dbt Labs</div>, <div class=\"organizationName second table-cell company\">ActiveCampaign</div>, <div class=\"organizationName second table-cell company\">Midjourney</div>, <div class=\"organizationName second table-cell company\">Brightwheel</div>, <div class=\"organizationName second table-cell company\">Tekion</div>, <div class=\"organizationName second table-cell company\">Personio</div>, <div class=\"organizationName second table-cell company\">Axonius</div>, <div class=\"organizationName second table-cell company\">Harness</div>, <div class=\"organizationName second table-cell company\">Kong Inc.</div>, <div class=\"organizationName second table-cell company\">Moveworks</div>, <div class=\"organizationName second table-cell company\">Front</div>, <div class=\"organizationName second table-cell company\">Mambu</div>, <div class=\"organizationName second table-cell company\">Orca Security</div>, <div class=\"organizationName second table-cell company\">Cribl</div>, <div class=\"organizationName second table-cell company\">Cockroach Labs</div>, <div class=\"organizationName second table-cell company\">Hugging Face</div>, <div class=\"organizationName second table-cell company\">MessageBird</div>, <div class=\"organizationName second table-cell company\">DeepL</div>]\n"
          ]
        }
      ]
    },
    {
      "cell_type": "code",
      "source": [
        "for content in contents:\n",
        "  print(content.text)"
      ],
      "metadata": {
        "colab": {
          "base_uri": "https://localhost:8080/"
        },
        "id": "8biVpzrNUCOl",
        "outputId": "d4cee522-bfe9-4035-e603-9a45bb29ad30"
      },
      "execution_count": null,
      "outputs": [
        {
          "output_type": "stream",
          "name": "stdout",
          "text": [
            "OpenAI\n",
            "Databricks\n",
            "Stripe\n",
            "Canva\n",
            "ServiceTitan\n",
            "Klaviyo\n",
            "Grammarly\n",
            "Talkdesk\n",
            "Rubrik\n",
            "Miro\n",
            "Navan\n",
            "Netskope\n",
            "Tanium\n",
            "Attentive\n",
            "Wiz\n",
            "Carta\n",
            "Celonis\n",
            "Grafana Labs\n",
            "Snyk\n",
            "Benchling\n",
            "OneTrust\n",
            "Checkr\n",
            "Gong\n",
            "Zapier\n",
            "Dialpad\n",
            "Gusto\n",
            "AppsFlyer\n",
            "Airtable\n",
            "Arctic Wolf\n",
            "OutSystems\n",
            "Guild\n",
            "Motive\n",
            "Scale AI\n",
            "Calendly\n",
            "Notion\n",
            "Plaid\n",
            "Automation Anywhere\n",
            "Deel\n",
            "HighRadius\n",
            "Seismic\n",
            "Zoho\n",
            "Postman\n",
            "Workato\n",
            "Dataiku\n",
            "Cohesity\n",
            "Algolia\n",
            "Collibra\n",
            "Icertis\n",
            "Druva\n",
            "1Password\n",
            "Yardi\n",
            "Fivetran\n",
            "Checkout.com\n",
            "Rippling\n",
            "HiBob\n",
            "Komodo Health\n",
            "Outreach\n",
            "BrowserStack\n",
            "Webflow\n",
            "Pendo\n",
            "Lucid\n",
            "LaunchDarkly\n",
            "ClickUp\n",
            "Retool\n",
            "Razorpay\n",
            "Contentsquare\n",
            "6sense\n",
            "Automattic\n",
            "Papaya Global\n",
            "Yotpo\n",
            "Highspot\n",
            "OwnBackup\n",
            "Anthropic\n",
            "Sentry\n",
            "Chainalysis\n",
            "Forter\n",
            "Intercom\n",
            "Contentful\n",
            "Claroty\n",
            "Abnormal Security\n",
            "Cloudinary\n",
            "Vanta\n",
            "Dbt Labs\n",
            "ActiveCampaign\n",
            "Midjourney\n",
            "Brightwheel\n",
            "Tekion\n",
            "Personio\n",
            "Axonius\n",
            "Harness\n",
            "Kong Inc.\n",
            "Moveworks\n",
            "Front\n",
            "Mambu\n",
            "Orca Security\n",
            "Cribl\n",
            "Cockroach Labs\n",
            "Hugging Face\n",
            "MessageBird\n",
            "DeepL\n"
          ]
        }
      ]
    },
    {
      "cell_type": "code",
      "source": [
        "ceos = soup.find_all('div',class_='ceo')\n",
        "print(ceos)"
      ],
      "metadata": {
        "id": "28kAkiZtb8H-",
        "colab": {
          "base_uri": "https://localhost:8080/"
        },
        "outputId": "8d7dba7a-879c-41af-b019-e32b9a355512"
      },
      "execution_count": null,
      "outputs": [
        {
          "output_type": "stream",
          "name": "stdout",
          "text": [
            "[<div class=\"ceoName table-cell ceo\">Sam Altman</div>, <div class=\"ceoName table-cell ceo\">Ali Ghodsi</div>, <div class=\"ceoName table-cell ceo\">Patrick Collison</div>, <div class=\"ceoName table-cell ceo\">Melanie Perkins</div>, <div class=\"ceoName table-cell ceo\">Ara Mahdessian</div>, <div class=\"ceoName table-cell ceo\">Andrew Bialecki</div>, <div class=\"ceoName table-cell ceo\">Rahul Roy-Chowdhury</div>, <div class=\"ceoName table-cell ceo\">Tiago Paiva</div>, <div class=\"ceoName table-cell ceo\">Bipul Sinha</div>, <div class=\"ceoName table-cell ceo\">Andrey Khusid</div>, <div class=\"ceoName table-cell ceo\">Ariel Cohen</div>, <div class=\"ceoName table-cell ceo\">Sanjay Beri</div>, <div class=\"ceoName table-cell ceo\">Dan Streetman</div>, <div class=\"ceoName table-cell ceo\">Amit Jhawar</div>, <div class=\"ceoName table-cell ceo\">Assaf Rappaport</div>, <div class=\"ceoName table-cell ceo\">Henry Ward</div>, <div class=\"ceoName table-cell ceo\">Alexander Rinke, Bastian Nominacher</div>, <div class=\"ceoName table-cell ceo\">Raj Dutt</div>, <div class=\"ceoName table-cell ceo\">Peter McKay</div>, <div class=\"ceoName table-cell ceo\">Sajith Wickramasekara</div>, <div class=\"ceoName table-cell ceo\">Kabir Barday</div>, <div class=\"ceoName table-cell ceo\">Daniel Yanisse</div>, <div class=\"ceoName table-cell ceo\">Amit Bendov</div>, <div class=\"ceoName table-cell ceo\">Wade Foster</div>, <div class=\"ceoName table-cell ceo\">Craig Walker</div>, <div class=\"ceoName table-cell ceo\">Josh Reeves</div>, <div class=\"ceoName table-cell ceo\">Oren Kaniel</div>, <div class=\"ceoName table-cell ceo\">Howie Liu</div>, <div class=\"ceoName table-cell ceo\">Nick Schneider</div>, <div class=\"ceoName table-cell ceo\">Paulo Rosado</div>, <div class=\"ceoName table-cell ceo\">Rachel Romer</div>, <div class=\"ceoName table-cell ceo\">Shoaib Makani</div>, <div class=\"ceoName table-cell ceo\">Alexandr Wang</div>, <div class=\"ceoName table-cell ceo\">Tope Awotona</div>, <div class=\"ceoName table-cell ceo\">Ivan Zhao</div>, <div class=\"ceoName table-cell ceo\">Zachary Perret</div>, <div class=\"ceoName table-cell ceo\">Mihir Shukla</div>, <div class=\"ceoName table-cell ceo\">Alex Bouaziz</div>, <div class=\"ceoName table-cell ceo\">Sashi Narahari</div>, <div class=\"ceoName table-cell ceo\">Doug Winter</div>, <div class=\"ceoName table-cell ceo\">Sridhar Vembu</div>, <div class=\"ceoName table-cell ceo\">Abhinav Asthana</div>, <div class=\"ceoName table-cell ceo\">Vijay Tella</div>, <div class=\"ceoName table-cell ceo\">Florian Douetteau</div>, <div class=\"ceoName table-cell ceo\">Sanjay Poonen</div>, <div class=\"ceoName table-cell ceo\">Bernadette Nixon</div>, <div class=\"ceoName table-cell ceo\">Felix Van de Maele</div>, <div class=\"ceoName table-cell ceo\">Samir Bodas</div>, <div class=\"ceoName table-cell ceo\">Jaspreet Singh</div>, <div class=\"ceoName table-cell ceo\">Jeff Shiner</div>, <div class=\"ceoName table-cell ceo\">Anant Yardi</div>, <div class=\"ceoName table-cell ceo\">George Fraser</div>, <div class=\"ceoName table-cell ceo\">Guillaume Pousaz</div>, <div class=\"ceoName table-cell ceo\">Parker Conrad</div>, <div class=\"ceoName table-cell ceo\">Ronni Zehavi</div>, <div class=\"ceoName table-cell ceo\">Arif Nathoo</div>, <div class=\"ceoName table-cell ceo\">Manny Medina</div>, <div class=\"ceoName table-cell ceo\">Ritesh Arora</div>, <div class=\"ceoName table-cell ceo\">Vlad Magdalin</div>, <div class=\"ceoName table-cell ceo\">Todd Olson</div>, <div class=\"ceoName table-cell ceo\">Dave Grow</div>, <div class=\"ceoName table-cell ceo\">Dan Rogers</div>, <div class=\"ceoName table-cell ceo\">Zeb Evans</div>, <div class=\"ceoName table-cell ceo\">David Hsu</div>, <div class=\"ceoName table-cell ceo\">Harshil Mathur</div>, <div class=\"ceoName table-cell ceo\">Jonathan Cherki</div>, <div class=\"ceoName table-cell ceo\">Jason Zintak</div>, <div class=\"ceoName table-cell ceo\">Matt Mullenweg</div>, <div class=\"ceoName table-cell ceo\">Eynat Guez</div>, <div class=\"ceoName table-cell ceo\">Tomer Tagrin</div>, <div class=\"ceoName table-cell ceo\">Robert Wahbe</div>, <div class=\"ceoName table-cell ceo\">Sam Gutmann</div>, <div class=\"ceoName table-cell ceo\">Dario Amodei</div>, <div class=\"ceoName table-cell ceo\">Milin Desai</div>, <div class=\"ceoName table-cell ceo\">Michael Gronager</div>, <div class=\"ceoName table-cell ceo\">Michael Reitblat</div>, <div class=\"ceoName table-cell ceo\">Eoghan McCabe</div>, <div class=\"ceoName table-cell ceo\">Steve Sloan</div>, <div class=\"ceoName table-cell ceo\">Yaniv Vardi</div>, <div class=\"ceoName table-cell ceo\">Evan Reiser</div>, <div class=\"ceoName table-cell ceo\">Itai Lahan</div>, <div class=\"ceoName table-cell ceo\">Christina Cacioppo</div>, <div class=\"ceoName table-cell ceo\">Tristan Handy</div>, <div class=\"ceoName table-cell ceo\">Jason VandeBoom</div>, <div class=\"ceoName table-cell ceo\">David Holz</div>, <div class=\"ceoName table-cell ceo\">Dave Vasen</div>, <div class=\"ceoName table-cell ceo\">Jay Vijayan</div>, <div class=\"ceoName table-cell ceo\">Hanno Renner</div>, <div class=\"ceoName table-cell ceo\">Dean Sysman</div>, <div class=\"ceoName table-cell ceo\">Jyoti Bansal</div>, <div class=\"ceoName table-cell ceo\">Augusto Marietti</div>, <div class=\"ceoName table-cell ceo\">Bhavin Shah</div>, <div class=\"ceoName table-cell ceo\">Mathilde Collin</div>, <div class=\"ceoName table-cell ceo\">Fernando Zandona</div>, <div class=\"ceoName table-cell ceo\">Gil Geron</div>, <div class=\"ceoName table-cell ceo\">Clint Sharp</div>, <div class=\"ceoName table-cell ceo\">Spencer Kimball</div>, <div class=\"ceoName table-cell ceo\">Clément Delangue</div>, <div class=\"ceoName table-cell ceo\">Robert Vis</div>, <div class=\"ceoName table-cell ceo\">Jarek Kutylowski</div>]\n"
          ]
        }
      ]
    },
    {
      "cell_type": "code",
      "source": [
        "for ceo in ceos:\n",
        "  print(ceo.text)"
      ],
      "metadata": {
        "colab": {
          "base_uri": "https://localhost:8080/"
        },
        "id": "b7OkAzD7vQOL",
        "outputId": "986101d2-952b-4b68-8b4f-1e78e683e8e2"
      },
      "execution_count": null,
      "outputs": [
        {
          "output_type": "stream",
          "name": "stdout",
          "text": [
            "Sam Altman\n",
            "Ali Ghodsi\n",
            "Patrick Collison\n",
            "Melanie Perkins\n",
            "Ara Mahdessian\n",
            "Andrew Bialecki\n",
            "Rahul Roy-Chowdhury\n",
            "Tiago Paiva\n",
            "Bipul Sinha\n",
            "Andrey Khusid\n",
            "Ariel Cohen\n",
            "Sanjay Beri\n",
            "Dan Streetman\n",
            "Amit Jhawar\n",
            "Assaf Rappaport\n",
            "Henry Ward\n",
            "Alexander Rinke, Bastian Nominacher\n",
            "Raj Dutt\n",
            "Peter McKay\n",
            "Sajith Wickramasekara\n",
            "Kabir Barday\n",
            "Daniel Yanisse\n",
            "Amit Bendov\n",
            "Wade Foster\n",
            "Craig Walker\n",
            "Josh Reeves\n",
            "Oren Kaniel\n",
            "Howie Liu\n",
            "Nick Schneider\n",
            "Paulo Rosado\n",
            "Rachel Romer\n",
            "Shoaib Makani\n",
            "Alexandr Wang\n",
            "Tope Awotona\n",
            "Ivan Zhao\n",
            "Zachary Perret\n",
            "Mihir Shukla\n",
            "Alex Bouaziz\n",
            "Sashi Narahari\n",
            "Doug Winter\n",
            "Sridhar Vembu\n",
            "Abhinav Asthana\n",
            "Vijay Tella\n",
            "Florian Douetteau\n",
            "Sanjay Poonen\n",
            "Bernadette Nixon\n",
            "Felix Van de Maele\n",
            "Samir Bodas\n",
            "Jaspreet Singh\n",
            "Jeff Shiner\n",
            "Anant Yardi\n",
            "George Fraser\n",
            "Guillaume Pousaz\n",
            "Parker Conrad\n",
            "Ronni Zehavi\n",
            "Arif Nathoo\n",
            "Manny Medina\n",
            "Ritesh Arora\n",
            "Vlad Magdalin\n",
            "Todd Olson\n",
            "Dave Grow\n",
            "Dan Rogers\n",
            "Zeb Evans\n",
            "David Hsu\n",
            "Harshil Mathur\n",
            "Jonathan Cherki\n",
            "Jason Zintak\n",
            "Matt Mullenweg\n",
            "Eynat Guez\n",
            "Tomer Tagrin\n",
            "Robert Wahbe\n",
            "Sam Gutmann\n",
            "Dario Amodei\n",
            "Milin Desai\n",
            "Michael Gronager\n",
            "Michael Reitblat\n",
            "Eoghan McCabe\n",
            "Steve Sloan\n",
            "Yaniv Vardi\n",
            "Evan Reiser\n",
            "Itai Lahan\n",
            "Christina Cacioppo\n",
            "Tristan Handy\n",
            "Jason VandeBoom\n",
            "David Holz\n",
            "Dave Vasen\n",
            "Jay Vijayan\n",
            "Hanno Renner\n",
            "Dean Sysman\n",
            "Jyoti Bansal\n",
            "Augusto Marietti\n",
            "Bhavin Shah\n",
            "Mathilde Collin\n",
            "Fernando Zandona\n",
            "Gil Geron\n",
            "Clint Sharp\n",
            "Spencer Kimball\n",
            "Clément Delangue\n",
            "Robert Vis\n",
            "Jarek Kutylowski\n"
          ]
        }
      ]
    },
    {
      "cell_type": "code",
      "source": [
        "headquarterss = soup.find_all('div',class_='headquarters')\n",
        "print(headquarterss)\n"
      ],
      "metadata": {
        "colab": {
          "base_uri": "https://localhost:8080/"
        },
        "id": "ZM7WAFE1vlD7",
        "outputId": "573d5822-4c07-432d-bdf6-ee311169b2f8"
      },
      "execution_count": null,
      "outputs": [
        {
          "output_type": "stream",
          "name": "stdout",
          "text": [
            "[<div class=\"headquarters table-cell country headquarters\">San Francisco, California, United States</div>, <div class=\"headquarters table-cell country headquarters\">San Francisco, California, United States</div>, <div class=\"headquarters table-cell country headquarters\">Dublin, Ireland; San Francisco, California, United States</div>, <div class=\"headquarters table-cell country headquarters\">Sydney, Australia</div>, <div class=\"headquarters table-cell country headquarters\">Glendale, California, United States</div>, <div class=\"headquarters table-cell country headquarters\">Boston, Massachusetts, United States</div>, <div class=\"headquarters table-cell country headquarters\">San Francisco, California, United States</div>, <div class=\"headquarters table-cell country headquarters\">San Francisco, California, United States</div>, <div class=\"headquarters table-cell country headquarters\">Palo Alto, California, United States</div>, <div class=\"headquarters table-cell country headquarters\">Amsterdam, Netherlands; San Francisco, California, United States</div>, <div class=\"headquarters table-cell country headquarters\">Palo Alto, California, United States</div>, <div class=\"headquarters table-cell country headquarters\">Santa Clara, California, United States</div>, <div class=\"headquarters table-cell country headquarters\">Kirkland, Washington, United States</div>, <div class=\"headquarters table-cell country headquarters\">New York, New York, United States</div>, <div class=\"headquarters table-cell country headquarters\">New York, New York, United States</div>, <div class=\"headquarters table-cell country headquarters\">San Francisco, California, United States</div>, <div class=\"headquarters table-cell country headquarters\">Munich, Germany; New York, New York, United States</div>, <div class=\"headquarters table-cell country headquarters\">New York, New York, United States</div>, <div class=\"headquarters table-cell country headquarters\">Boston, Massachusetts, United States</div>, <div class=\"headquarters table-cell country headquarters\">San Francisco, California, United States</div>, <div class=\"headquarters table-cell country headquarters\">Atlanta, Georgia, United States</div>, <div class=\"headquarters table-cell country headquarters\">San Francisco, California, United States</div>, <div class=\"headquarters table-cell country headquarters\">San Francisco, California, United States</div>, <div class=\"headquarters table-cell country headquarters\">Remote, United States</div>, <div class=\"headquarters table-cell country headquarters\">San Ramon, California, United States</div>, <div class=\"headquarters table-cell country headquarters\">San Francisco, California, United States</div>, <div class=\"headquarters table-cell country headquarters\">San Francisco, California, United States</div>, <div class=\"headquarters table-cell country headquarters\">San Francisco, California, United States</div>, <div class=\"headquarters table-cell country headquarters\">Eden Prairie, Minnesota, United States</div>, <div class=\"headquarters table-cell country headquarters\">Lisbon, Portugal; Boston, Massachusetts, United States</div>, <div class=\"headquarters table-cell country headquarters\">Denver, Colorado, United States</div>, <div class=\"headquarters table-cell country headquarters\">San Francisco, California, United States</div>, <div class=\"headquarters table-cell country headquarters\">San Francisco, California, United States</div>, <div class=\"headquarters table-cell country headquarters\">Atlanta, Georgia, United States</div>, <div class=\"headquarters table-cell country headquarters\">San Francisco, California, United States</div>, <div class=\"headquarters table-cell country headquarters\">San Francisco, California, United States</div>, <div class=\"headquarters table-cell country headquarters\">San Jose, California, United States</div>, <div class=\"headquarters table-cell country headquarters\">San Francisco, California, United States</div>, <div class=\"headquarters table-cell country headquarters\">Houston, Texas, United States</div>, <div class=\"headquarters table-cell country headquarters\">San Diego, California, United States</div>, <div class=\"headquarters table-cell country headquarters\">Chennai, India; Austin, Texas, United States</div>, <div class=\"headquarters table-cell country headquarters\">San Francisco, California, United States</div>, <div class=\"headquarters table-cell country headquarters\">Mountain View, California, United States</div>, <div class=\"headquarters table-cell country headquarters\">New York, New York, United States</div>, <div class=\"headquarters table-cell country headquarters\">San Jose, California, United States</div>, <div class=\"headquarters table-cell country headquarters\">San Francisco, California, United States</div>, <div class=\"headquarters table-cell country headquarters\">Brussels, Belgium; New York, New York, United States</div>, <div class=\"headquarters table-cell country headquarters\">Bellevue, Washington, United States</div>, <div class=\"headquarters table-cell country headquarters\">Santa Clara, California, United States</div>, <div class=\"headquarters table-cell country headquarters\">Toronto, Canada</div>, <div class=\"headquarters table-cell country headquarters\">Santa Barbara, California, United States</div>, <div class=\"headquarters table-cell country headquarters\">Oakland, California, United States</div>, <div class=\"headquarters table-cell country headquarters\">London, United Kingdom</div>, <div class=\"headquarters table-cell country headquarters\">San Francisco, California, United States</div>, <div class=\"headquarters table-cell country headquarters\">London, United Kingdom</div>, <div class=\"headquarters table-cell country headquarters\">New York, New York; San Francisco, California, United States</div>, <div class=\"headquarters table-cell country headquarters\">Seattle, Washington, United States</div>, <div class=\"headquarters table-cell country headquarters\">Dublin, Ireland</div>, <div class=\"headquarters table-cell country headquarters\">San Francisco, California, United States</div>, <div class=\"headquarters table-cell country headquarters\">Raleigh, North Carolina, United States</div>, <div class=\"headquarters table-cell country headquarters\">South Jordan, Utah, United States</div>, <div class=\"headquarters table-cell country headquarters\">Oakland, California, United States</div>, <div class=\"headquarters table-cell country headquarters\">San Diego, California, United States</div>, <div class=\"headquarters table-cell country headquarters\">San Francisco, California, United States</div>, <div class=\"headquarters table-cell country headquarters\">Bangalore, India</div>, <div class=\"headquarters table-cell country headquarters\">Paris, France</div>, <div class=\"headquarters table-cell country headquarters\">San Francisco, California, United States</div>, <div class=\"headquarters table-cell country headquarters\">San Francisco, California, United States</div>, <div class=\"headquarters table-cell country headquarters\">Herzliya, Israel; New York, New York, United States</div>, <div class=\"headquarters table-cell country headquarters\">New York, New York, United States</div>, <div class=\"headquarters table-cell country headquarters\">Seattle, Washington, United States</div>, <div class=\"headquarters table-cell country headquarters\">Englewood Cliffs, New Jersey, United States</div>, <div class=\"headquarters table-cell country headquarters\">San Francisco, California, United States</div>, <div class=\"headquarters table-cell country headquarters\">San Francisco, California, United States</div>, <div class=\"headquarters table-cell country headquarters\">New York, New York, United States</div>, <div class=\"headquarters table-cell country headquarters\">New York, New York, United States</div>, <div class=\"headquarters table-cell country headquarters\">San Francisco, California, United States</div>, <div class=\"headquarters table-cell country headquarters\">Berlin, Germany; San Francisco, California; Denver, Colorado, United States</div>, <div class=\"headquarters table-cell country headquarters\">New York, New York, United States</div>, <div class=\"headquarters table-cell country headquarters\">San Francisco, California, United States</div>, <div class=\"headquarters table-cell country headquarters\">Santa Clara, California, United States</div>, <div class=\"headquarters table-cell country headquarters\">San Francisco, California, United States</div>, <div class=\"headquarters table-cell country headquarters\">Philadelphia, Pennsylvania, United States</div>, <div class=\"headquarters table-cell country headquarters\">Chicago, Illinois, United States</div>, <div class=\"headquarters table-cell country headquarters\">San Francisco, California, United States</div>, <div class=\"headquarters table-cell country headquarters\">San Francisco, California, United States</div>, <div class=\"headquarters table-cell country headquarters\">Pleasanton, California, United States</div>, <div class=\"headquarters table-cell country headquarters\">Munich, Germany</div>, <div class=\"headquarters table-cell country headquarters\">New York, New York, United States</div>, <div class=\"headquarters table-cell country headquarters\">San Francisco, California, United States</div>, <div class=\"headquarters table-cell country headquarters\">San Francisco, California, United States</div>, <div class=\"headquarters table-cell country headquarters\">Mountain View, California, United States</div>, <div class=\"headquarters table-cell country headquarters\">San Francisco, California, United States</div>, <div class=\"headquarters table-cell country headquarters\">Amsterdam, Netherlands</div>, <div class=\"headquarters table-cell country headquarters\">Portland, Oregon, United States</div>, <div class=\"headquarters table-cell country headquarters\">San Francisco, California, United States</div>, <div class=\"headquarters table-cell country headquarters\">New York, New York, United States</div>, <div class=\"headquarters table-cell country headquarters\">New York, New York, United States</div>, <div class=\"headquarters table-cell country headquarters\">Amsterdam, Netherlands</div>, <div class=\"headquarters table-cell country headquarters\">Cologne, Germany</div>]\n"
          ]
        }
      ]
    },
    {
      "cell_type": "code",
      "source": [
        "for headquarters in headquarterss:\n",
        "  print(headquarters.text)"
      ],
      "metadata": {
        "colab": {
          "base_uri": "https://localhost:8080/"
        },
        "id": "vXsjyl13wFJV",
        "outputId": "84f45ba7-1e35-4a5b-f795-568d70cc81bb"
      },
      "execution_count": null,
      "outputs": [
        {
          "output_type": "stream",
          "name": "stdout",
          "text": [
            "San Francisco, California, United States\n",
            "San Francisco, California, United States\n",
            "Dublin, Ireland; San Francisco, California, United States\n",
            "Sydney, Australia\n",
            "Glendale, California, United States\n",
            "Boston, Massachusetts, United States\n",
            "San Francisco, California, United States\n",
            "San Francisco, California, United States\n",
            "Palo Alto, California, United States\n",
            "Amsterdam, Netherlands; San Francisco, California, United States\n",
            "Palo Alto, California, United States\n",
            "Santa Clara, California, United States\n",
            "Kirkland, Washington, United States\n",
            "New York, New York, United States\n",
            "New York, New York, United States\n",
            "San Francisco, California, United States\n",
            "Munich, Germany; New York, New York, United States\n",
            "New York, New York, United States\n",
            "Boston, Massachusetts, United States\n",
            "San Francisco, California, United States\n",
            "Atlanta, Georgia, United States\n",
            "San Francisco, California, United States\n",
            "San Francisco, California, United States\n",
            "Remote, United States\n",
            "San Ramon, California, United States\n",
            "San Francisco, California, United States\n",
            "San Francisco, California, United States\n",
            "San Francisco, California, United States\n",
            "Eden Prairie, Minnesota, United States\n",
            "Lisbon, Portugal; Boston, Massachusetts, United States\n",
            "Denver, Colorado, United States\n",
            "San Francisco, California, United States\n",
            "San Francisco, California, United States\n",
            "Atlanta, Georgia, United States\n",
            "San Francisco, California, United States\n",
            "San Francisco, California, United States\n",
            "San Jose, California, United States\n",
            "San Francisco, California, United States\n",
            "Houston, Texas, United States\n",
            "San Diego, California, United States\n",
            "Chennai, India; Austin, Texas, United States\n",
            "San Francisco, California, United States\n",
            "Mountain View, California, United States\n",
            "New York, New York, United States\n",
            "San Jose, California, United States\n",
            "San Francisco, California, United States\n",
            "Brussels, Belgium; New York, New York, United States\n",
            "Bellevue, Washington, United States\n",
            "Santa Clara, California, United States\n",
            "Toronto, Canada\n",
            "Santa Barbara, California, United States\n",
            "Oakland, California, United States\n",
            "London, United Kingdom\n",
            "San Francisco, California, United States\n",
            "London, United Kingdom\n",
            "New York, New York; San Francisco, California, United States\n",
            "Seattle, Washington, United States\n",
            "Dublin, Ireland\n",
            "San Francisco, California, United States\n",
            "Raleigh, North Carolina, United States\n",
            "South Jordan, Utah, United States\n",
            "Oakland, California, United States\n",
            "San Diego, California, United States\n",
            "San Francisco, California, United States\n",
            "Bangalore, India\n",
            "Paris, France\n",
            "San Francisco, California, United States\n",
            "San Francisco, California, United States\n",
            "Herzliya, Israel; New York, New York, United States\n",
            "New York, New York, United States\n",
            "Seattle, Washington, United States\n",
            "Englewood Cliffs, New Jersey, United States\n",
            "San Francisco, California, United States\n",
            "San Francisco, California, United States\n",
            "New York, New York, United States\n",
            "New York, New York, United States\n",
            "San Francisco, California, United States\n",
            "Berlin, Germany; San Francisco, California; Denver, Colorado, United States\n",
            "New York, New York, United States\n",
            "San Francisco, California, United States\n",
            "Santa Clara, California, United States\n",
            "San Francisco, California, United States\n",
            "Philadelphia, Pennsylvania, United States\n",
            "Chicago, Illinois, United States\n",
            "San Francisco, California, United States\n",
            "San Francisco, California, United States\n",
            "Pleasanton, California, United States\n",
            "Munich, Germany\n",
            "New York, New York, United States\n",
            "San Francisco, California, United States\n",
            "San Francisco, California, United States\n",
            "Mountain View, California, United States\n",
            "San Francisco, California, United States\n",
            "Amsterdam, Netherlands\n",
            "Portland, Oregon, United States\n",
            "San Francisco, California, United States\n",
            "New York, New York, United States\n",
            "New York, New York, United States\n",
            "Amsterdam, Netherlands\n",
            "Cologne, Germany\n"
          ]
        }
      ]
    },
    {
      "cell_type": "code",
      "source": [
        "employeess = soup.find_all('div',class_='employees')\n",
        "print(employeess)\n"
      ],
      "metadata": {
        "colab": {
          "base_uri": "https://localhost:8080/"
        },
        "id": "u8x7eOBmwiu6",
        "outputId": "543b6966-c77f-4cf4-8208-d3319c11fc53"
      },
      "execution_count": null,
      "outputs": [
        {
          "output_type": "stream",
          "name": "stdout",
          "text": [
            "[<div class=\"employees table-cell employees\">500</div>, <div class=\"employees table-cell employees\">5,500</div>, <div class=\"employees table-cell employees\">7,000</div>, <div class=\"employees table-cell employees\">3,640</div>, <div class=\"employees table-cell employees\">2,564</div>, <div class=\"employees table-cell employees\">1,598</div>, <div class=\"employees table-cell employees\">900</div>, <div class=\"employees table-cell employees\">1,800</div>, <div class=\"employees table-cell employees\">2,900</div>, <div class=\"employees table-cell employees\">1,762</div>, <div class=\"employees table-cell employees\">3,000</div>, <div class=\"employees table-cell employees\">2,500</div>, <div class=\"employees table-cell employees\">1,887</div>, <div class=\"employees table-cell employees\">1,035</div>, <div class=\"employees table-cell employees\">740</div>, <div class=\"employees table-cell employees\">1,800</div>, <div class=\"employees table-cell employees\">3,000</div>, <div class=\"employees table-cell employees\">1,000</div>, <div class=\"employees table-cell employees\">1,000</div>, <div class=\"employees table-cell employees\">800</div>, <div class=\"employees table-cell employees\">2,100</div>, <div class=\"employees table-cell employees\">1,250</div>, <div class=\"employees table-cell employees\">1,100</div>, <div class=\"employees table-cell employees\">756</div>, <div class=\"employees table-cell employees\">1,084</div>, <div class=\"employees table-cell employees\">2,400</div>, <div class=\"employees table-cell employees\">1,515</div>, <div class=\"employees table-cell employees\">900</div>, <div class=\"employees table-cell employees\">2,221</div>, <div class=\"employees table-cell employees\">1,875</div>, <div class=\"employees table-cell employees\">1,200</div>, <div class=\"employees table-cell employees\">3,000</div>, <div class=\"employees table-cell employees\">600</div>, <div class=\"employees table-cell employees\">600</div>, <div class=\"employees table-cell employees\">533</div>, <div class=\"employees table-cell employees\">1,000</div>, <div class=\"employees table-cell employees\">1,500</div>, <div class=\"employees table-cell employees\">2,600</div>, <div class=\"employees table-cell employees\">4,017</div>, <div class=\"employees table-cell employees\">1,500</div>, <div class=\"employees table-cell employees\">12,000</div>, <div class=\"employees table-cell employees\">700</div>, <div class=\"employees table-cell employees\">837</div>, <div class=\"employees table-cell employees\">1,200</div>, <div class=\"employees table-cell employees\">2,100</div>, <div class=\"employees table-cell employees\">753</div>, <div class=\"employees table-cell employees\">1,151</div>, <div class=\"employees table-cell employees\">2,200</div>, <div class=\"employees table-cell employees\">1,100</div>, <div class=\"employees table-cell employees\">1,027</div>, <div class=\"employees table-cell employees\">9,300</div>, <div class=\"employees table-cell employees\">1,150</div>, <div class=\"employees table-cell employees\">1,900</div>, <div class=\"employees table-cell employees\">2,000</div>, <div class=\"employees table-cell employees\">745</div>, <div class=\"employees table-cell employees\">800</div>, <div class=\"employees table-cell employees\">1,045</div>, <div class=\"employees table-cell employees\">1,050</div>, <div class=\"employees table-cell employees\">600</div>, <div class=\"employees table-cell employees\">750</div>, <div class=\"employees table-cell employees\">1,100</div>, <div class=\"employees table-cell employees\">525</div>, <div class=\"employees table-cell employees\">900</div>, <div class=\"employees table-cell employees\">307</div>, <div class=\"employees table-cell employees\">2,500</div>, <div class=\"employees table-cell employees\">1,854</div>, <div class=\"employees table-cell employees\">1,200</div>, <div class=\"employees table-cell employees\">1,951</div>, <div class=\"employees table-cell employees\">708</div>, <div class=\"employees table-cell employees\">800</div>, <div class=\"employees table-cell employees\">850</div>, <div class=\"employees table-cell employees\">727</div>, <div class=\"employees table-cell employees\">200</div>, <div class=\"employees table-cell employees\">354</div>, <div class=\"employees table-cell employees\">900</div>, <div class=\"employees table-cell employees\">500</div>, <div class=\"employees table-cell employees\">854</div>, <div class=\"employees table-cell employees\">750</div>, <div class=\"employees table-cell employees\">488</div>, <div class=\"employees table-cell employees\">500</div>, <div class=\"employees table-cell employees\">476</div>, <div class=\"employees table-cell employees\">340</div>, <div class=\"employees table-cell employees\">376</div>, <div class=\"employees table-cell employees\">912</div>, <div class=\"employees table-cell employees\">44</div>, <div class=\"employees table-cell employees\">400</div>, <div class=\"employees table-cell employees\">3,043</div>, <div class=\"employees table-cell employees\">1,700</div>, <div class=\"employees table-cell employees\">589</div>, <div class=\"employees table-cell employees\">720</div>, <div class=\"employees table-cell employees\">500</div>, <div class=\"employees table-cell employees\">447</div>, <div class=\"employees table-cell employees\">275</div>, <div class=\"employees table-cell employees\">964</div>, <div class=\"employees table-cell employees\">447</div>, <div class=\"employees table-cell employees\">525</div>, <div class=\"employees table-cell employees\">460</div>, <div class=\"employees table-cell employees\">200</div>, <div class=\"employees table-cell employees\">600</div>, <div class=\"employees table-cell employees\">600</div>]\n"
          ]
        }
      ]
    },
    {
      "cell_type": "code",
      "source": [
        "for employees in employeess:\n",
        "  print(employees.text)"
      ],
      "metadata": {
        "colab": {
          "base_uri": "https://localhost:8080/"
        },
        "id": "PYi2h7rTxNga",
        "outputId": "177c65d0-40f9-40d4-f410-831af942f744"
      },
      "execution_count": null,
      "outputs": [
        {
          "output_type": "stream",
          "name": "stdout",
          "text": [
            "500\n",
            "5,500\n",
            "7,000\n",
            "3,640\n",
            "2,564\n",
            "1,598\n",
            "900\n",
            "1,800\n",
            "2,900\n",
            "1,762\n",
            "3,000\n",
            "2,500\n",
            "1,887\n",
            "1,035\n",
            "740\n",
            "1,800\n",
            "3,000\n",
            "1,000\n",
            "1,000\n",
            "800\n",
            "2,100\n",
            "1,250\n",
            "1,100\n",
            "756\n",
            "1,084\n",
            "2,400\n",
            "1,515\n",
            "900\n",
            "2,221\n",
            "1,875\n",
            "1,200\n",
            "3,000\n",
            "600\n",
            "600\n",
            "533\n",
            "1,000\n",
            "1,500\n",
            "2,600\n",
            "4,017\n",
            "1,500\n",
            "12,000\n",
            "700\n",
            "837\n",
            "1,200\n",
            "2,100\n",
            "753\n",
            "1,151\n",
            "2,200\n",
            "1,100\n",
            "1,027\n",
            "9,300\n",
            "1,150\n",
            "1,900\n",
            "2,000\n",
            "745\n",
            "800\n",
            "1,045\n",
            "1,050\n",
            "600\n",
            "750\n",
            "1,100\n",
            "525\n",
            "900\n",
            "307\n",
            "2,500\n",
            "1,854\n",
            "1,200\n",
            "1,951\n",
            "708\n",
            "800\n",
            "850\n",
            "727\n",
            "200\n",
            "354\n",
            "900\n",
            "500\n",
            "854\n",
            "750\n",
            "488\n",
            "500\n",
            "476\n",
            "340\n",
            "376\n",
            "912\n",
            "44\n",
            "400\n",
            "3,043\n",
            "1,700\n",
            "589\n",
            "720\n",
            "500\n",
            "447\n",
            "275\n",
            "964\n",
            "447\n",
            "525\n",
            "460\n",
            "200\n",
            "600\n",
            "600\n"
          ]
        }
      ]
    },
    {
      "cell_type": "code",
      "source": [
        "valuationss = soup.find_all('div',class_='valuation')\n",
        "print(valuationss)"
      ],
      "metadata": {
        "colab": {
          "base_uri": "https://localhost:8080/"
        },
        "id": "Sh_7XmwSxVV1",
        "outputId": "54453a78-3c9a-4129-b5e2-c122a4994639"
      },
      "execution_count": null,
      "outputs": [
        {
          "output_type": "stream",
          "name": "stdout",
          "text": [
            "[<div class=\"marketValue table-cell valuation ($)\">28,000</div>, <div class=\"marketValue table-cell valuation ($)\">38,000</div>, <div class=\"marketValue table-cell valuation ($)\">50,000</div>, <div class=\"marketValue table-cell valuation ($)\">40,000</div>, <div class=\"marketValue table-cell valuation ($)\">7,500</div>, <div class=\"marketValue table-cell valuation ($)\">9,500</div>, <div class=\"marketValue table-cell valuation ($)\">13,000</div>, <div class=\"marketValue table-cell valuation ($)\">10,000</div>, <div class=\"marketValue table-cell valuation ($)\">3,300</div>, <div class=\"marketValue table-cell valuation ($)\">17,500</div>, <div class=\"marketValue table-cell valuation ($)\">9,200</div>, <div class=\"marketValue table-cell valuation ($)\">7,500</div>, <div class=\"marketValue table-cell valuation ($)\">9,000</div>, <div class=\"marketValue table-cell valuation ($)\">7,000</div>, <div class=\"marketValue table-cell valuation ($)\">10,000</div>, <div class=\"marketValue table-cell valuation ($)\">7,400</div>, <div class=\"marketValue table-cell valuation ($)\">13,000</div>, <div class=\"marketValue table-cell valuation ($)\">6,000</div>, <div class=\"marketValue table-cell valuation ($)\">7,400</div>, <div class=\"marketValue table-cell valuation ($)\">6,100</div>, <div class=\"marketValue table-cell valuation ($)\">4,500</div>, <div class=\"marketValue table-cell valuation ($)\">5,000</div>, <div class=\"marketValue table-cell valuation ($)\">7,300</div>, <div class=\"marketValue table-cell valuation ($)\">5,000</div>, <div class=\"marketValue table-cell valuation ($)\">2,200</div>, <div class=\"marketValue table-cell valuation ($)\">9,500</div>, <div class=\"marketValue table-cell valuation ($)\">2,000</div>, <div class=\"marketValue table-cell valuation ($)\">11,000</div>, <div class=\"marketValue table-cell valuation ($)\">4,300</div>, <div class=\"marketValue table-cell valuation ($)\">4,400</div>, <div class=\"marketValue table-cell valuation ($)\">4,400</div>, <div class=\"marketValue table-cell valuation ($)\">2,900</div>, <div class=\"marketValue table-cell valuation ($)\">7,300</div>, <div class=\"marketValue table-cell valuation ($)\">3,000</div>, <div class=\"marketValue table-cell valuation ($)\">10,000</div>, <div class=\"marketValue table-cell valuation ($)\">13,400</div>, <div class=\"marketValue table-cell valuation ($)\">7,300</div>, <div class=\"marketValue table-cell valuation ($)\">12,000</div>, <div class=\"marketValue table-cell valuation ($)\">3,100</div>, <div class=\"marketValue table-cell valuation ($)\">3,000</div>, <div class=\"marketValue table-cell valuation ($)\"></div>, <div class=\"marketValue table-cell valuation ($)\">5,600</div>, <div class=\"marketValue table-cell valuation ($)\">5,700</div>, <div class=\"marketValue table-cell valuation ($)\">3,700</div>, <div class=\"marketValue table-cell valuation ($)\">2,500</div>, <div class=\"marketValue table-cell valuation ($)\">2,300</div>, <div class=\"marketValue table-cell valuation ($)\">5,300</div>, <div class=\"marketValue table-cell valuation ($)\">3,000</div>, <div class=\"marketValue table-cell valuation ($)\">2,000</div>, <div class=\"marketValue table-cell valuation ($)\">6,800</div>, <div class=\"marketValue table-cell valuation ($)\"></div>, <div class=\"marketValue table-cell valuation ($)\">5,600</div>, <div class=\"marketValue table-cell valuation ($)\">40,000</div>, <div class=\"marketValue table-cell valuation ($)\">11,300</div>, <div class=\"marketValue table-cell valuation ($)\">2,500</div>, <div class=\"marketValue table-cell valuation ($)\">3,300</div>, <div class=\"marketValue table-cell valuation ($)\">4,400</div>, <div class=\"marketValue table-cell valuation ($)\">4,000</div>, <div class=\"marketValue table-cell valuation ($)\">4,000</div>, <div class=\"marketValue table-cell valuation ($)\">2,600</div>, <div class=\"marketValue table-cell valuation ($)\">3,000</div>, <div class=\"marketValue table-cell valuation ($)\">3,000</div>, <div class=\"marketValue table-cell valuation ($)\">4,000</div>, <div class=\"marketValue table-cell valuation ($)\">3,200</div>, <div class=\"marketValue table-cell valuation ($)\">7,500</div>, <div class=\"marketValue table-cell valuation ($)\">5,600</div>, <div class=\"marketValue table-cell valuation ($)\">5,200</div>, <div class=\"marketValue table-cell valuation ($)\">7,500</div>, <div class=\"marketValue table-cell valuation ($)\">3,700</div>, <div class=\"marketValue table-cell valuation ($)\">1,400</div>, <div class=\"marketValue table-cell valuation ($)\">3,500</div>, <div class=\"marketValue table-cell valuation ($)\">3,400</div>, <div class=\"marketValue table-cell valuation ($)\">5,000</div>, <div class=\"marketValue table-cell valuation ($)\">3,000</div>, <div class=\"marketValue table-cell valuation ($)\">8,600</div>, <div class=\"marketValue table-cell valuation ($)\">3,000</div>, <div class=\"marketValue table-cell valuation ($)\">1,300</div>, <div class=\"marketValue table-cell valuation ($)\">3,000</div>, <div class=\"marketValue table-cell valuation ($)\">1,100</div>, <div class=\"marketValue table-cell valuation ($)\">4,000</div>, <div class=\"marketValue table-cell valuation ($)\">2,000</div>, <div class=\"marketValue table-cell valuation ($)\">1,600</div>, <div class=\"marketValue table-cell valuation ($)\">4,200</div>, <div class=\"marketValue table-cell valuation ($)\">3,000</div>, <div class=\"marketValue table-cell valuation ($)\"></div>, <div class=\"marketValue table-cell valuation ($)\">605</div>, <div class=\"marketValue table-cell valuation ($)\">3,500</div>, <div class=\"marketValue table-cell valuation ($)\">8,500</div>, <div class=\"marketValue table-cell valuation ($)\">2,600</div>, <div class=\"marketValue table-cell valuation ($)\">3,700</div>, <div class=\"marketValue table-cell valuation ($)\">1,400</div>, <div class=\"marketValue table-cell valuation ($)\">2,100</div>, <div class=\"marketValue table-cell valuation ($)\">1,700</div>, <div class=\"marketValue table-cell valuation ($)\">5,000</div>, <div class=\"marketValue table-cell valuation ($)\">1,800</div>, <div class=\"marketValue table-cell valuation ($)\">2,500</div>, <div class=\"marketValue table-cell valuation ($)\">5,000</div>, <div class=\"marketValue table-cell valuation ($)\">2,000</div>, <div class=\"marketValue table-cell valuation ($)\">3,800</div>, <div class=\"marketValue table-cell valuation ($)\">1,000</div>]\n"
          ]
        }
      ]
    },
    {
      "cell_type": "code",
      "source": [
        "for valuations in valuationss:\n",
        "  print(valuations.text)"
      ],
      "metadata": {
        "colab": {
          "base_uri": "https://localhost:8080/"
        },
        "id": "GfEPKBMoxkBH",
        "outputId": "e6d94863-7ecc-4395-8e10-5e57a00f890f"
      },
      "execution_count": null,
      "outputs": [
        {
          "output_type": "stream",
          "name": "stdout",
          "text": [
            "28,000\n",
            "38,000\n",
            "50,000\n",
            "40,000\n",
            "7,500\n",
            "9,500\n",
            "13,000\n",
            "10,000\n",
            "3,300\n",
            "17,500\n",
            "9,200\n",
            "7,500\n",
            "9,000\n",
            "7,000\n",
            "10,000\n",
            "7,400\n",
            "13,000\n",
            "6,000\n",
            "7,400\n",
            "6,100\n",
            "4,500\n",
            "5,000\n",
            "7,300\n",
            "5,000\n",
            "2,200\n",
            "9,500\n",
            "2,000\n",
            "11,000\n",
            "4,300\n",
            "4,400\n",
            "4,400\n",
            "2,900\n",
            "7,300\n",
            "3,000\n",
            "10,000\n",
            "13,400\n",
            "7,300\n",
            "12,000\n",
            "3,100\n",
            "3,000\n",
            "\n",
            "5,600\n",
            "5,700\n",
            "3,700\n",
            "2,500\n",
            "2,300\n",
            "5,300\n",
            "3,000\n",
            "2,000\n",
            "6,800\n",
            "\n",
            "5,600\n",
            "40,000\n",
            "11,300\n",
            "2,500\n",
            "3,300\n",
            "4,400\n",
            "4,000\n",
            "4,000\n",
            "2,600\n",
            "3,000\n",
            "3,000\n",
            "4,000\n",
            "3,200\n",
            "7,500\n",
            "5,600\n",
            "5,200\n",
            "7,500\n",
            "3,700\n",
            "1,400\n",
            "3,500\n",
            "3,400\n",
            "5,000\n",
            "3,000\n",
            "8,600\n",
            "3,000\n",
            "1,300\n",
            "3,000\n",
            "1,100\n",
            "4,000\n",
            "2,000\n",
            "1,600\n",
            "4,200\n",
            "3,000\n",
            "\n",
            "605\n",
            "3,500\n",
            "8,500\n",
            "2,600\n",
            "3,700\n",
            "1,400\n",
            "2,100\n",
            "1,700\n",
            "5,000\n",
            "1,800\n",
            "2,500\n",
            "5,000\n",
            "2,000\n",
            "3,800\n",
            "1,000\n"
          ]
        }
      ]
    },
    {
      "cell_type": "code",
      "source": [
        "whatitdoess = soup.find_all('div',class_='does')\n",
        "print(whatitdoess)"
      ],
      "metadata": {
        "colab": {
          "base_uri": "https://localhost:8080/"
        },
        "id": "abbA8E57x8-c",
        "outputId": "57e61cd2-1a75-4c48-e7d3-5fc01da612ad"
      },
      "execution_count": null,
      "outputs": [
        {
          "output_type": "stream",
          "name": "stdout",
          "text": [
            "[<div class=\"industry table-cell what it does\">AI research and products</div>, <div class=\"industry table-cell what it does\">Data and AI platform</div>, <div class=\"industry table-cell what it does\">Financial infrastructure</div>, <div class=\"industry table-cell what it does\">Visual communication platform</div>, <div class=\"industry table-cell what it does\">Trade industry software</div>, <div class=\"industry table-cell what it does\">Marketing automation</div>, <div class=\"industry table-cell what it does\">Communication assistance</div>, <div class=\"industry table-cell what it does\">Cloud contact center</div>, <div class=\"industry table-cell what it does\">Data security</div>, <div class=\"industry table-cell what it does\">Digital collaboration</div>, <div class=\"industry table-cell what it does\">Travel and expense management</div>, <div class=\"industry table-cell what it does\">Network security</div>, <div class=\"industry table-cell what it does\">Secure endpoint management</div>, <div class=\"industry table-cell what it does\">SMS marketing</div>, <div class=\"industry table-cell what it does\">Cloud security</div>, <div class=\"industry table-cell what it does\">Equity management</div>, <div class=\"industry table-cell what it does\">Process automation</div>, <div class=\"industry table-cell what it does\">Database observability</div>, <div class=\"industry table-cell what it does\">Developer security</div>, <div class=\"industry table-cell what it does\">Biotech R&amp;D platform</div>, <div class=\"industry table-cell what it does\">Compliance software</div>, <div class=\"industry table-cell what it does\">Background checks</div>, <div class=\"industry table-cell what it does\">Revenue intelligence</div>, <div class=\"industry table-cell what it does\">Workflow automation</div>, <div class=\"industry table-cell what it does\">Customer intelligence</div>, <div class=\"industry table-cell what it does\">Payroll, benefits and HR</div>, <div class=\"industry table-cell what it does\">Mobile marketing analytics</div>, <div class=\"industry table-cell what it does\">App development platform</div>, <div class=\"industry table-cell what it does\">Security operations</div>, <div class=\"industry table-cell what it does\">Low-code app development</div>, <div class=\"industry table-cell what it does\">Education benefits platform</div>, <div class=\"industry table-cell what it does\">Fleet management</div>, <div class=\"industry table-cell what it does\">Data infrastructure</div>, <div class=\"industry table-cell what it does\">Scheduling automation</div>, <div class=\"industry table-cell what it does\">Work collaboration</div>, <div class=\"industry table-cell what it does\">Financial data connectivity</div>, <div class=\"industry table-cell what it does\">Robotic process automation</div>, <div class=\"industry table-cell what it does\">Global HR</div>, <div class=\"industry table-cell what it does\">Autonomous finance</div>, <div class=\"industry table-cell what it does\">Sales enablement</div>, <div class=\"industry table-cell what it does\">Office software suite</div>, <div class=\"industry table-cell what it does\">API management</div>, <div class=\"industry table-cell what it does\">Enterprise automation</div>, <div class=\"industry table-cell what it does\">Data science platform</div>, <div class=\"industry table-cell what it does\">Data security and management</div>, <div class=\"industry table-cell what it does\">Business search API</div>, <div class=\"industry table-cell what it does\">Data intelligence</div>, <div class=\"industry table-cell what it does\">Contract intelligence</div>, <div class=\"industry table-cell what it does\">Data protection</div>, <div class=\"industry table-cell what it does\">Identity security</div>, <div class=\"industry table-cell what it does\">Real estate software</div>, <div class=\"industry table-cell what it does\">Automated data movement</div>, <div class=\"industry table-cell what it does\">Global payments provider</div>, <div class=\"industry table-cell what it does\">Workforce management</div>, <div class=\"industry table-cell what it does\">HR software</div>, <div class=\"industry table-cell what it does\">Health care data analytics</div>, <div class=\"industry table-cell what it does\">Sales intelligence</div>, <div class=\"industry table-cell what it does\">Software testing platform</div>, <div class=\"industry table-cell what it does\">Visual development platform</div>, <div class=\"industry table-cell what it does\">Digital adoption software</div>, <div class=\"industry table-cell what it does\">Visual collaboration</div>, <div class=\"industry table-cell what it does\">Software feature management</div>, <div class=\"industry table-cell what it does\">Work collaboration</div>, <div class=\"industry table-cell what it does\">Internal tool development</div>, <div class=\"industry table-cell what it does\">Payments software</div>, <div class=\"industry table-cell what it does\">Customer analytics</div>, <div class=\"industry table-cell what it does\">Account-based marketing</div>, <div class=\"industry table-cell what it does\">Publishing and e-commerce</div>, <div class=\"industry table-cell what it does\">Global payroll software</div>, <div class=\"industry table-cell what it does\">E-commerce marketing platform</div>, <div class=\"industry table-cell what it does\">Sales enablement</div>, <div class=\"industry table-cell what it does\">Software data protection</div>, <div class=\"industry table-cell what it does\">AI research and products</div>, <div class=\"industry table-cell what it does\">App performance monitoring</div>, <div class=\"industry table-cell what it does\">Blockchain data analytics</div>, <div class=\"industry table-cell what it does\">E-commerce fraud prevention</div>, <div class=\"industry table-cell what it does\">Customer service platform</div>, <div class=\"industry table-cell what it does\">Content creation platform</div>, <div class=\"industry table-cell what it does\">Industrial cybersecurity</div>, <div class=\"industry table-cell what it does\">Email security</div>, <div class=\"industry table-cell what it does\">Media management</div>, <div class=\"industry table-cell what it does\">Security and compliance</div>, <div class=\"industry table-cell what it does\">Data transformation</div>, <div class=\"industry table-cell what it does\">Marketing automation</div>, <div class=\"industry table-cell what it does\">AI image generator</div>, <div class=\"industry table-cell what it does\">Childcare management</div>, <div class=\"industry table-cell what it does\">Automotive retail platform</div>, <div class=\"industry table-cell what it does\">HR software</div>, <div class=\"industry table-cell what it does\">Cybersecurity asset management</div>, <div class=\"industry table-cell what it does\">Software delivery</div>, <div class=\"industry table-cell what it does\">API management</div>, <div class=\"industry table-cell what it does\">AI support automation</div>, <div class=\"industry table-cell what it does\">Customer operations</div>, <div class=\"industry table-cell what it does\">Cloud banking platform</div>, <div class=\"industry table-cell what it does\">Cloud security</div>, <div class=\"industry table-cell what it does\">Data observability</div>, <div class=\"industry table-cell what it does\">Database management</div>, <div class=\"industry table-cell what it does\">Open-source AI library</div>, <div class=\"industry table-cell what it does\">Communications platform</div>, <div class=\"industry table-cell what it does\">AI translation service</div>]\n"
          ]
        }
      ]
    },
    {
      "cell_type": "code",
      "source": [
        "for whatitdoes in whatitdoess:\n",
        "  print(whatitdoes.text)"
      ],
      "metadata": {
        "colab": {
          "base_uri": "https://localhost:8080/"
        },
        "id": "v2O3XK9cyOcY",
        "outputId": "23838419-fed3-4cdb-c3dc-1f5ee35cf449"
      },
      "execution_count": null,
      "outputs": [
        {
          "output_type": "stream",
          "name": "stdout",
          "text": [
            "AI research and products\n",
            "Data and AI platform\n",
            "Financial infrastructure\n",
            "Visual communication platform\n",
            "Trade industry software\n",
            "Marketing automation\n",
            "Communication assistance\n",
            "Cloud contact center\n",
            "Data security\n",
            "Digital collaboration\n",
            "Travel and expense management\n",
            "Network security\n",
            "Secure endpoint management\n",
            "SMS marketing\n",
            "Cloud security\n",
            "Equity management\n",
            "Process automation\n",
            "Database observability\n",
            "Developer security\n",
            "Biotech R&D platform\n",
            "Compliance software\n",
            "Background checks\n",
            "Revenue intelligence\n",
            "Workflow automation\n",
            "Customer intelligence\n",
            "Payroll, benefits and HR\n",
            "Mobile marketing analytics\n",
            "App development platform\n",
            "Security operations\n",
            "Low-code app development\n",
            "Education benefits platform\n",
            "Fleet management\n",
            "Data infrastructure\n",
            "Scheduling automation\n",
            "Work collaboration\n",
            "Financial data connectivity\n",
            "Robotic process automation\n",
            "Global HR\n",
            "Autonomous finance\n",
            "Sales enablement\n",
            "Office software suite\n",
            "API management\n",
            "Enterprise automation\n",
            "Data science platform\n",
            "Data security and management\n",
            "Business search API\n",
            "Data intelligence\n",
            "Contract intelligence\n",
            "Data protection\n",
            "Identity security\n",
            "Real estate software\n",
            "Automated data movement\n",
            "Global payments provider\n",
            "Workforce management\n",
            "HR software\n",
            "Health care data analytics\n",
            "Sales intelligence\n",
            "Software testing platform\n",
            "Visual development platform\n",
            "Digital adoption software\n",
            "Visual collaboration\n",
            "Software feature management\n",
            "Work collaboration\n",
            "Internal tool development\n",
            "Payments software\n",
            "Customer analytics\n",
            "Account-based marketing\n",
            "Publishing and e-commerce\n",
            "Global payroll software\n",
            "E-commerce marketing platform\n",
            "Sales enablement\n",
            "Software data protection\n",
            "AI research and products\n",
            "App performance monitoring\n",
            "Blockchain data analytics\n",
            "E-commerce fraud prevention\n",
            "Customer service platform\n",
            "Content creation platform\n",
            "Industrial cybersecurity\n",
            "Email security\n",
            "Media management\n",
            "Security and compliance\n",
            "Data transformation\n",
            "Marketing automation\n",
            "AI image generator\n",
            "Childcare management\n",
            "Automotive retail platform\n",
            "HR software\n",
            "Cybersecurity asset management\n",
            "Software delivery\n",
            "API management\n",
            "AI support automation\n",
            "Customer operations\n",
            "Cloud banking platform\n",
            "Cloud security\n",
            "Data observability\n",
            "Database management\n",
            "Open-source AI library\n",
            "Communications platform\n",
            "AI translation service\n"
          ]
        }
      ]
    },
    {
      "cell_type": "code",
      "source": [
        "links = soup.find_all('a',class_=\"table-row\")\n",
        "print(links)"
      ],
      "metadata": {
        "colab": {
          "base_uri": "https://localhost:8080/"
        },
        "id": "p2uySBYHybtF",
        "outputId": "2906d3f2-f9a9-471d-ff99-e605ad4cdd93"
      },
      "execution_count": null,
      "outputs": [
        {
          "output_type": "stream",
          "name": "stdout",
          "text": [
            "[<a aria-label=\"OpenAI\" canexpand=\"\" class=\"table-row active premiumProfile-openai\" href=\"https://www.forbes.com/companies/openai/?list=cloud100\" rel=\"noopener noreferrer\" style=\"background-color:\" target=\"#_blank\" uri=\"openai\"><div class=\"rank first table-cell rank\">1</div><div class=\"organizationName second table-cell company\">OpenAI</div><div class=\"ceoName table-cell ceo\">Sam Altman</div><div class=\"headquarters table-cell country headquarters\">San Francisco, California, United States</div><div class=\"employees table-cell employees\">500</div><div class=\"marketValue table-cell valuation ($)\">28,000</div><div class=\"industry table-cell what it does\">AI research and products</div></a>, <a aria-label=\"Databricks\" canexpand=\"\" class=\"table-row active premiumProfile-databricks\" href=\"https://www.forbes.com/companies/databricks/?list=cloud100\" rel=\"noopener noreferrer\" style=\"background-color:\" target=\"#_blank\" uri=\"databricks\"><div class=\"rank first table-cell rank\">2</div><div class=\"organizationName second table-cell company\">Databricks</div><div class=\"ceoName table-cell ceo\">Ali Ghodsi</div><div class=\"headquarters table-cell country headquarters\">San Francisco, California, United States</div><div class=\"employees table-cell employees\">5,500</div><div class=\"marketValue table-cell valuation ($)\">38,000</div><div class=\"industry table-cell what it does\">Data and AI platform</div></a>, <a aria-label=\"Stripe\" canexpand=\"\" class=\"table-row active premiumProfile-stripe\" href=\"https://www.forbes.com/companies/stripe/?list=cloud100\" rel=\"noopener noreferrer\" style=\"background-color:\" target=\"#_blank\" uri=\"stripe\"><div class=\"rank first table-cell rank\">3</div><div class=\"organizationName second table-cell company\">Stripe</div><div class=\"ceoName table-cell ceo\">Patrick Collison</div><div class=\"headquarters table-cell country headquarters\">Dublin, Ireland; San Francisco, California, United States</div><div class=\"employees table-cell employees\">7,000</div><div class=\"marketValue table-cell valuation ($)\">50,000</div><div class=\"industry table-cell what it does\">Financial infrastructure</div></a>, <a aria-label=\"Canva\" canexpand=\"\" class=\"table-row active premiumProfile-canva\" href=\"https://www.forbes.com/companies/canva/?list=cloud100\" rel=\"noopener noreferrer\" style=\"background-color:\" target=\"#_blank\" uri=\"canva\"><div class=\"rank first table-cell rank\">4</div><div class=\"organizationName second table-cell company\">Canva</div><div class=\"ceoName table-cell ceo\">Melanie Perkins</div><div class=\"headquarters table-cell country headquarters\">Sydney, Australia</div><div class=\"employees table-cell employees\">3,640</div><div class=\"marketValue table-cell valuation ($)\">40,000</div><div class=\"industry table-cell what it does\">Visual communication platform</div></a>, <a aria-label=\"ServiceTitan\" canexpand=\"\" class=\"table-row active premiumProfile-servicetitan\" href=\"https://www.forbes.com/companies/servicetitan/?list=cloud100\" rel=\"noopener noreferrer\" style=\"background-color:\" target=\"#_blank\" uri=\"servicetitan\"><div class=\"rank first table-cell rank\">5</div><div class=\"organizationName second table-cell company\">ServiceTitan</div><div class=\"ceoName table-cell ceo\">Ara Mahdessian</div><div class=\"headquarters table-cell country headquarters\">Glendale, California, United States</div><div class=\"employees table-cell employees\">2,564</div><div class=\"marketValue table-cell valuation ($)\">7,500</div><div class=\"industry table-cell what it does\">Trade industry software</div></a>, <a aria-label=\"Klaviyo\" canexpand=\"\" class=\"table-row active premiumProfile-klaviyo\" href=\"https://www.forbes.com/companies/klaviyo/?list=cloud100\" rel=\"noopener noreferrer\" style=\"background-color:\" target=\"#_blank\" uri=\"klaviyo\"><div class=\"rank first table-cell rank\">6</div><div class=\"organizationName second table-cell company\">Klaviyo</div><div class=\"ceoName table-cell ceo\">Andrew Bialecki</div><div class=\"headquarters table-cell country headquarters\">Boston, Massachusetts, United States</div><div class=\"employees table-cell employees\">1,598</div><div class=\"marketValue table-cell valuation ($)\">9,500</div><div class=\"industry table-cell what it does\">Marketing automation</div></a>, <a aria-label=\"Grammarly\" canexpand=\"\" class=\"table-row active premiumProfile-grammarly\" href=\"https://www.forbes.com/companies/grammarly/?list=cloud100\" rel=\"noopener noreferrer\" style=\"background-color:\" target=\"#_blank\" uri=\"grammarly\"><div class=\"rank first table-cell rank\">7</div><div class=\"organizationName second table-cell company\">Grammarly</div><div class=\"ceoName table-cell ceo\">Rahul Roy-Chowdhury</div><div class=\"headquarters table-cell country headquarters\">San Francisco, California, United States</div><div class=\"employees table-cell employees\">900</div><div class=\"marketValue table-cell valuation ($)\">13,000</div><div class=\"industry table-cell what it does\">Communication assistance</div></a>, <a aria-label=\"Talkdesk\" canexpand=\"\" class=\"table-row active premiumProfile-talkdesk\" href=\"https://www.forbes.com/companies/talkdesk/?list=cloud100\" rel=\"noopener noreferrer\" style=\"background-color:\" target=\"#_blank\" uri=\"talkdesk\"><div class=\"rank first table-cell rank\">8</div><div class=\"organizationName second table-cell company\">Talkdesk</div><div class=\"ceoName table-cell ceo\">Tiago Paiva</div><div class=\"headquarters table-cell country headquarters\">San Francisco, California, United States</div><div class=\"employees table-cell employees\">1,800</div><div class=\"marketValue table-cell valuation ($)\">10,000</div><div class=\"industry table-cell what it does\">Cloud contact center</div></a>, <a aria-label=\"Rubrik\" canexpand=\"\" class=\"table-row active premiumProfile-rubrik\" href=\"https://www.forbes.com/companies/rubrik/?list=cloud100\" rel=\"noopener noreferrer\" style=\"background-color:\" target=\"#_blank\" uri=\"rubrik\"><div class=\"rank first table-cell rank\">9</div><div class=\"organizationName second table-cell company\">Rubrik</div><div class=\"ceoName table-cell ceo\">Bipul Sinha</div><div class=\"headquarters table-cell country headquarters\">Palo Alto, California, United States</div><div class=\"employees table-cell employees\">2,900</div><div class=\"marketValue table-cell valuation ($)\">3,300</div><div class=\"industry table-cell what it does\">Data security</div></a>, <a aria-label=\"Miro\" canexpand=\"\" class=\"table-row active premiumProfile-miro\" href=\"https://www.forbes.com/companies/miro/?list=cloud100\" rel=\"noopener noreferrer\" style=\"background-color:\" target=\"#_blank\" uri=\"miro\"><div class=\"rank first table-cell rank\">10</div><div class=\"organizationName second table-cell company\">Miro</div><div class=\"ceoName table-cell ceo\">Andrey Khusid</div><div class=\"headquarters table-cell country headquarters\">Amsterdam, Netherlands; San Francisco, California, United States</div><div class=\"employees table-cell employees\">1,762</div><div class=\"marketValue table-cell valuation ($)\">17,500</div><div class=\"industry table-cell what it does\">Digital collaboration</div></a>, <a aria-label=\"Navan\" canexpand=\"\" class=\"table-row active premiumProfile-navan\" href=\"https://www.forbes.com/companies/navan/?list=cloud100\" rel=\"noopener noreferrer\" style=\"background-color:\" target=\"#_blank\" uri=\"navan\"><div class=\"rank first table-cell rank\">11</div><div class=\"organizationName second table-cell company\">Navan</div><div class=\"ceoName table-cell ceo\">Ariel Cohen</div><div class=\"headquarters table-cell country headquarters\">Palo Alto, California, United States</div><div class=\"employees table-cell employees\">3,000</div><div class=\"marketValue table-cell valuation ($)\">9,200</div><div class=\"industry table-cell what it does\">Travel and expense management</div></a>, <a aria-label=\"Netskope\" canexpand=\"\" class=\"table-row active premiumProfile-netskope\" href=\"https://www.forbes.com/companies/netskope/?list=cloud100\" rel=\"noopener noreferrer\" style=\"background-color:\" target=\"#_blank\" uri=\"netskope\"><div class=\"rank first table-cell rank\">12</div><div class=\"organizationName second table-cell company\">Netskope</div><div class=\"ceoName table-cell ceo\">Sanjay Beri</div><div class=\"headquarters table-cell country headquarters\">Santa Clara, California, United States</div><div class=\"employees table-cell employees\">2,500</div><div class=\"marketValue table-cell valuation ($)\">7,500</div><div class=\"industry table-cell what it does\">Network security</div></a>, <a aria-label=\"Tanium\" canexpand=\"\" class=\"table-row active premiumProfile-tanium\" href=\"https://www.forbes.com/companies/tanium/?list=cloud100\" rel=\"noopener noreferrer\" style=\"background-color:\" target=\"#_blank\" uri=\"tanium\"><div class=\"rank first table-cell rank\">13</div><div class=\"organizationName second table-cell company\">Tanium</div><div class=\"ceoName table-cell ceo\">Dan Streetman</div><div class=\"headquarters table-cell country headquarters\">Kirkland, Washington, United States</div><div class=\"employees table-cell employees\">1,887</div><div class=\"marketValue table-cell valuation ($)\">9,000</div><div class=\"industry table-cell what it does\">Secure endpoint management</div></a>, <a aria-label=\"Attentive\" canexpand=\"\" class=\"table-row active premiumProfile-attentive\" href=\"https://www.forbes.com/companies/attentive/?list=cloud100\" rel=\"noopener noreferrer\" style=\"background-color:\" target=\"#_blank\" uri=\"attentive\"><div class=\"rank first table-cell rank\">14</div><div class=\"organizationName second table-cell company\">Attentive</div><div class=\"ceoName table-cell ceo\">Amit Jhawar</div><div class=\"headquarters table-cell country headquarters\">New York, New York, United States</div><div class=\"employees table-cell employees\">1,035</div><div class=\"marketValue table-cell valuation ($)\">7,000</div><div class=\"industry table-cell what it does\">SMS marketing</div></a>, <a aria-label=\"Wiz\" canexpand=\"\" class=\"table-row active premiumProfile-wiz\" href=\"https://www.forbes.com/companies/wiz/?list=cloud100\" rel=\"noopener noreferrer\" style=\"background-color:\" target=\"#_blank\" uri=\"wiz\"><div class=\"rank first table-cell rank\">15</div><div class=\"organizationName second table-cell company\">Wiz</div><div class=\"ceoName table-cell ceo\">Assaf Rappaport</div><div class=\"headquarters table-cell country headquarters\">New York, New York, United States</div><div class=\"employees table-cell employees\">740</div><div class=\"marketValue table-cell valuation ($)\">10,000</div><div class=\"industry table-cell what it does\">Cloud security</div></a>, <a aria-label=\"Carta\" canexpand=\"\" class=\"table-row active premiumProfile-carta\" href=\"https://www.forbes.com/companies/carta/?list=cloud100\" rel=\"noopener noreferrer\" style=\"background-color:\" target=\"#_blank\" uri=\"carta\"><div class=\"rank first table-cell rank\">16</div><div class=\"organizationName second table-cell company\">Carta</div><div class=\"ceoName table-cell ceo\">Henry Ward</div><div class=\"headquarters table-cell country headquarters\">San Francisco, California, United States</div><div class=\"employees table-cell employees\">1,800</div><div class=\"marketValue table-cell valuation ($)\">7,400</div><div class=\"industry table-cell what it does\">Equity management</div></a>, <a aria-label=\"Celonis\" canexpand=\"\" class=\"table-row active premiumProfile-celonis\" href=\"https://www.forbes.com/companies/celonis/?list=cloud100\" rel=\"noopener noreferrer\" style=\"background-color:\" target=\"#_blank\" uri=\"celonis\"><div class=\"rank first table-cell rank\">17</div><div class=\"organizationName second table-cell company\">Celonis</div><div class=\"ceoName table-cell ceo\">Alexander Rinke, Bastian Nominacher</div><div class=\"headquarters table-cell country headquarters\">Munich, Germany; New York, New York, United States</div><div class=\"employees table-cell employees\">3,000</div><div class=\"marketValue table-cell valuation ($)\">13,000</div><div class=\"industry table-cell what it does\">Process automation</div></a>, <a aria-label=\"Grafana Labs\" canexpand=\"\" class=\"table-row active premiumProfile-grafana-labs\" href=\"https://www.forbes.com/companies/grafana-labs/?list=cloud100\" rel=\"noopener noreferrer\" style=\"background-color:\" target=\"#_blank\" uri=\"grafana-labs\"><div class=\"rank first table-cell rank\">18</div><div class=\"organizationName second table-cell company\">Grafana Labs</div><div class=\"ceoName table-cell ceo\">Raj Dutt</div><div class=\"headquarters table-cell country headquarters\">New York, New York, United States</div><div class=\"employees table-cell employees\">1,000</div><div class=\"marketValue table-cell valuation ($)\">6,000</div><div class=\"industry table-cell what it does\">Database observability</div></a>, <a aria-label=\"Snyk\" canexpand=\"\" class=\"table-row active premiumProfile-snyk\" href=\"https://www.forbes.com/companies/snyk/?list=cloud100\" rel=\"noopener noreferrer\" style=\"background-color:\" target=\"#_blank\" uri=\"snyk\"><div class=\"rank first table-cell rank\">19</div><div class=\"organizationName second table-cell company\">Snyk</div><div class=\"ceoName table-cell ceo\">Peter McKay</div><div class=\"headquarters table-cell country headquarters\">Boston, Massachusetts, United States</div><div class=\"employees table-cell employees\">1,000</div><div class=\"marketValue table-cell valuation ($)\">7,400</div><div class=\"industry table-cell what it does\">Developer security</div></a>, <a aria-label=\"Benchling\" canexpand=\"\" class=\"table-row active premiumProfile-benchling\" href=\"https://www.forbes.com/companies/benchling/?list=cloud100\" rel=\"noopener noreferrer\" style=\"background-color:\" target=\"#_blank\" uri=\"benchling\"><div class=\"rank first table-cell rank\">20</div><div class=\"organizationName second table-cell company\">Benchling</div><div class=\"ceoName table-cell ceo\">Sajith Wickramasekara</div><div class=\"headquarters table-cell country headquarters\">San Francisco, California, United States</div><div class=\"employees table-cell employees\">800</div><div class=\"marketValue table-cell valuation ($)\">6,100</div><div class=\"industry table-cell what it does\">Biotech R&amp;D platform</div></a>, <a aria-label=\"OneTrust\" canexpand=\"\" class=\"table-row active premiumProfile-onetrust\" href=\"https://www.forbes.com/companies/onetrust/?list=cloud100\" rel=\"noopener noreferrer\" style=\"background-color:\" target=\"#_blank\" uri=\"onetrust\"><div class=\"rank first table-cell rank\">21</div><div class=\"organizationName second table-cell company\">OneTrust</div><div class=\"ceoName table-cell ceo\">Kabir Barday</div><div class=\"headquarters table-cell country headquarters\">Atlanta, Georgia, United States</div><div class=\"employees table-cell employees\">2,100</div><div class=\"marketValue table-cell valuation ($)\">4,500</div><div class=\"industry table-cell what it does\">Compliance software</div></a>, <a aria-label=\"Checkr\" canexpand=\"\" class=\"table-row active premiumProfile-checkr\" href=\"https://www.forbes.com/companies/checkr/?list=cloud100\" rel=\"noopener noreferrer\" style=\"background-color:\" target=\"#_blank\" uri=\"checkr\"><div class=\"rank first table-cell rank\">22</div><div class=\"organizationName second table-cell company\">Checkr</div><div class=\"ceoName table-cell ceo\">Daniel Yanisse</div><div class=\"headquarters table-cell country headquarters\">San Francisco, California, United States</div><div class=\"employees table-cell employees\">1,250</div><div class=\"marketValue table-cell valuation ($)\">5,000</div><div class=\"industry table-cell what it does\">Background checks</div></a>, <a aria-label=\"Gong\" canexpand=\"\" class=\"table-row active premiumProfile-gong\" href=\"https://www.forbes.com/companies/gong/?list=cloud100\" rel=\"noopener noreferrer\" style=\"background-color:\" target=\"#_blank\" uri=\"gong\"><div class=\"rank first table-cell rank\">23</div><div class=\"organizationName second table-cell company\">Gong</div><div class=\"ceoName table-cell ceo\">Amit Bendov</div><div class=\"headquarters table-cell country headquarters\">San Francisco, California, United States</div><div class=\"employees table-cell employees\">1,100</div><div class=\"marketValue table-cell valuation ($)\">7,300</div><div class=\"industry table-cell what it does\">Revenue intelligence</div></a>, <a aria-label=\"Zapier\" canexpand=\"\" class=\"table-row active premiumProfile-zapier\" href=\"https://www.forbes.com/companies/zapier/?list=cloud100\" rel=\"noopener noreferrer\" style=\"background-color:\" target=\"#_blank\" uri=\"zapier\"><div class=\"rank first table-cell rank\">24</div><div class=\"organizationName second table-cell company\">Zapier</div><div class=\"ceoName table-cell ceo\">Wade Foster</div><div class=\"headquarters table-cell country headquarters\">Remote, United States</div><div class=\"employees table-cell employees\">756</div><div class=\"marketValue table-cell valuation ($)\">5,000</div><div class=\"industry table-cell what it does\">Workflow automation</div></a>, <a aria-label=\"Dialpad\" canexpand=\"\" class=\"table-row active premiumProfile-dialpad\" href=\"https://www.forbes.com/companies/dialpad/?list=cloud100\" rel=\"noopener noreferrer\" style=\"background-color:\" target=\"#_blank\" uri=\"dialpad\"><div class=\"rank first table-cell rank\">25</div><div class=\"organizationName second table-cell company\">Dialpad</div><div class=\"ceoName table-cell ceo\">Craig Walker</div><div class=\"headquarters table-cell country headquarters\">San Ramon, California, United States</div><div class=\"employees table-cell employees\">1,084</div><div class=\"marketValue table-cell valuation ($)\">2,200</div><div class=\"industry table-cell what it does\">Customer intelligence</div></a>, <a aria-label=\"Gusto\" canexpand=\"\" class=\"table-row active premiumProfile-gusto\" href=\"https://www.forbes.com/companies/gusto/?list=cloud100\" rel=\"noopener noreferrer\" style=\"background-color:\" target=\"#_blank\" uri=\"gusto\"><div class=\"rank first table-cell rank\">26</div><div class=\"organizationName second table-cell company\">Gusto</div><div class=\"ceoName table-cell ceo\">Josh Reeves</div><div class=\"headquarters table-cell country headquarters\">San Francisco, California, United States</div><div class=\"employees table-cell employees\">2,400</div><div class=\"marketValue table-cell valuation ($)\">9,500</div><div class=\"industry table-cell what it does\">Payroll, benefits and HR</div></a>, <a aria-label=\"AppsFlyer\" canexpand=\"\" class=\"table-row active premiumProfile-appsflyer\" href=\"https://www.forbes.com/companies/appsflyer/?list=cloud100\" rel=\"noopener noreferrer\" style=\"background-color:\" target=\"#_blank\" uri=\"appsflyer\"><div class=\"rank first table-cell rank\">27</div><div class=\"organizationName second table-cell company\">AppsFlyer</div><div class=\"ceoName table-cell ceo\">Oren Kaniel</div><div class=\"headquarters table-cell country headquarters\">San Francisco, California, United States</div><div class=\"employees table-cell employees\">1,515</div><div class=\"marketValue table-cell valuation ($)\">2,000</div><div class=\"industry table-cell what it does\">Mobile marketing analytics</div></a>, <a aria-label=\"Airtable\" canexpand=\"\" class=\"table-row active premiumProfile-airtable\" href=\"https://www.forbes.com/companies/airtable/?list=cloud100\" rel=\"noopener noreferrer\" style=\"background-color:\" target=\"#_blank\" uri=\"airtable\"><div class=\"rank first table-cell rank\">28</div><div class=\"organizationName second table-cell company\">Airtable</div><div class=\"ceoName table-cell ceo\">Howie Liu</div><div class=\"headquarters table-cell country headquarters\">San Francisco, California, United States</div><div class=\"employees table-cell employees\">900</div><div class=\"marketValue table-cell valuation ($)\">11,000</div><div class=\"industry table-cell what it does\">App development platform</div></a>, <a aria-label=\"Arctic Wolf\" canexpand=\"\" class=\"table-row active premiumProfile-arctic-wolf\" href=\"https://www.forbes.com/companies/arctic-wolf/?list=cloud100\" rel=\"noopener noreferrer\" style=\"background-color:\" target=\"#_blank\" uri=\"arctic-wolf\"><div class=\"rank first table-cell rank\">29</div><div class=\"organizationName second table-cell company\">Arctic Wolf</div><div class=\"ceoName table-cell ceo\">Nick Schneider</div><div class=\"headquarters table-cell country headquarters\">Eden Prairie, Minnesota, United States</div><div class=\"employees table-cell employees\">2,221</div><div class=\"marketValue table-cell valuation ($)\">4,300</div><div class=\"industry table-cell what it does\">Security operations</div></a>, <a aria-label=\"OutSystems\" canexpand=\"\" class=\"table-row active premiumProfile-outsystems\" href=\"https://www.forbes.com/companies/outsystems/?list=cloud100\" rel=\"noopener noreferrer\" style=\"background-color:\" target=\"#_blank\" uri=\"outsystems\"><div class=\"rank first table-cell rank\">30</div><div class=\"organizationName second table-cell company\">OutSystems</div><div class=\"ceoName table-cell ceo\">Paulo Rosado</div><div class=\"headquarters table-cell country headquarters\">Lisbon, Portugal; Boston, Massachusetts, United States</div><div class=\"employees table-cell employees\">1,875</div><div class=\"marketValue table-cell valuation ($)\">4,400</div><div class=\"industry table-cell what it does\">Low-code app development</div></a>, <a aria-label=\"Guild\" canexpand=\"\" class=\"table-row active premiumProfile-guild\" href=\"https://www.forbes.com/companies/guild/?list=cloud100\" rel=\"noopener noreferrer\" style=\"background-color:\" target=\"#_blank\" uri=\"guild\"><div class=\"rank first table-cell rank\">31</div><div class=\"organizationName second table-cell company\">Guild</div><div class=\"ceoName table-cell ceo\">Rachel Romer</div><div class=\"headquarters table-cell country headquarters\">Denver, Colorado, United States</div><div class=\"employees table-cell employees\">1,200</div><div class=\"marketValue table-cell valuation ($)\">4,400</div><div class=\"industry table-cell what it does\">Education benefits platform</div></a>, <a aria-label=\"Motive\" canexpand=\"\" class=\"table-row active premiumProfile-motive\" href=\"https://www.forbes.com/companies/motive/?list=cloud100\" rel=\"noopener noreferrer\" style=\"background-color:\" target=\"#_blank\" uri=\"motive\"><div class=\"rank first table-cell rank\">32</div><div class=\"organizationName second table-cell company\">Motive</div><div class=\"ceoName table-cell ceo\">Shoaib Makani</div><div class=\"headquarters table-cell country headquarters\">San Francisco, California, United States</div><div class=\"employees table-cell employees\">3,000</div><div class=\"marketValue table-cell valuation ($)\">2,900</div><div class=\"industry table-cell what it does\">Fleet management</div></a>, <a aria-label=\"Scale AI\" canexpand=\"\" class=\"table-row active premiumProfile-scale-ai\" href=\"https://www.forbes.com/companies/scale-ai/?list=cloud100\" rel=\"noopener noreferrer\" style=\"background-color:\" target=\"#_blank\" uri=\"scale-ai\"><div class=\"rank first table-cell rank\">33</div><div class=\"organizationName second table-cell company\">Scale AI</div><div class=\"ceoName table-cell ceo\">Alexandr Wang</div><div class=\"headquarters table-cell country headquarters\">San Francisco, California, United States</div><div class=\"employees table-cell employees\">600</div><div class=\"marketValue table-cell valuation ($)\">7,300</div><div class=\"industry table-cell what it does\">Data infrastructure</div></a>, <a aria-label=\"Calendly\" canexpand=\"\" class=\"table-row active premiumProfile-calendly\" href=\"https://www.forbes.com/companies/calendly/?list=cloud100\" rel=\"noopener noreferrer\" style=\"background-color:\" target=\"#_blank\" uri=\"calendly\"><div class=\"rank first table-cell rank\">34</div><div class=\"organizationName second table-cell company\">Calendly</div><div class=\"ceoName table-cell ceo\">Tope Awotona</div><div class=\"headquarters table-cell country headquarters\">Atlanta, Georgia, United States</div><div class=\"employees table-cell employees\">600</div><div class=\"marketValue table-cell valuation ($)\">3,000</div><div class=\"industry table-cell what it does\">Scheduling automation</div></a>, <a aria-label=\"Notion\" canexpand=\"\" class=\"table-row active premiumProfile-notion\" href=\"https://www.forbes.com/companies/notion/?list=cloud100\" rel=\"noopener noreferrer\" style=\"background-color:\" target=\"#_blank\" uri=\"notion\"><div class=\"rank first table-cell rank\">35</div><div class=\"organizationName second table-cell company\">Notion</div><div class=\"ceoName table-cell ceo\">Ivan Zhao</div><div class=\"headquarters table-cell country headquarters\">San Francisco, California, United States</div><div class=\"employees table-cell employees\">533</div><div class=\"marketValue table-cell valuation ($)\">10,000</div><div class=\"industry table-cell what it does\">Work collaboration</div></a>, <a aria-label=\"Plaid\" canexpand=\"\" class=\"table-row active premiumProfile-plaid\" href=\"https://www.forbes.com/companies/plaid/?list=cloud100\" rel=\"noopener noreferrer\" style=\"background-color:\" target=\"#_blank\" uri=\"plaid\"><div class=\"rank first table-cell rank\">36</div><div class=\"organizationName second table-cell company\">Plaid</div><div class=\"ceoName table-cell ceo\">Zachary Perret</div><div class=\"headquarters table-cell country headquarters\">San Francisco, California, United States</div><div class=\"employees table-cell employees\">1,000</div><div class=\"marketValue table-cell valuation ($)\">13,400</div><div class=\"industry table-cell what it does\">Financial data connectivity</div></a>, <a aria-label=\"Automation Anywhere\" canexpand=\"\" class=\"table-row active premiumProfile-automation-anywhere\" href=\"https://www.forbes.com/companies/automation-anywhere/?list=cloud100\" rel=\"noopener noreferrer\" style=\"background-color:\" target=\"#_blank\" uri=\"automation-anywhere\"><div class=\"rank first table-cell rank\">37</div><div class=\"organizationName second table-cell company\">Automation Anywhere</div><div class=\"ceoName table-cell ceo\">Mihir Shukla</div><div class=\"headquarters table-cell country headquarters\">San Jose, California, United States</div><div class=\"employees table-cell employees\">1,500</div><div class=\"marketValue table-cell valuation ($)\">7,300</div><div class=\"industry table-cell what it does\">Robotic process automation</div></a>, <a aria-label=\"Deel\" canexpand=\"\" class=\"table-row active premiumProfile-deel\" href=\"https://www.forbes.com/companies/deel/?list=cloud100\" rel=\"noopener noreferrer\" style=\"background-color:\" target=\"#_blank\" uri=\"deel\"><div class=\"rank first table-cell rank\">38</div><div class=\"organizationName second table-cell company\">Deel</div><div class=\"ceoName table-cell ceo\">Alex Bouaziz</div><div class=\"headquarters table-cell country headquarters\">San Francisco, California, United States</div><div class=\"employees table-cell employees\">2,600</div><div class=\"marketValue table-cell valuation ($)\">12,000</div><div class=\"industry table-cell what it does\">Global HR</div></a>, <a aria-label=\"HighRadius\" canexpand=\"\" class=\"table-row active premiumProfile-highradius\" href=\"https://www.forbes.com/companies/highradius/?list=cloud100\" rel=\"noopener noreferrer\" style=\"background-color:\" target=\"#_blank\" uri=\"highradius\"><div class=\"rank first table-cell rank\">39</div><div class=\"organizationName second table-cell company\">HighRadius</div><div class=\"ceoName table-cell ceo\">Sashi Narahari</div><div class=\"headquarters table-cell country headquarters\">Houston, Texas, United States</div><div class=\"employees table-cell employees\">4,017</div><div class=\"marketValue table-cell valuation ($)\">3,100</div><div class=\"industry table-cell what it does\">Autonomous finance</div></a>, <a aria-label=\"Seismic\" canexpand=\"\" class=\"table-row active premiumProfile-seismic\" href=\"https://www.forbes.com/companies/seismic/?list=cloud100\" rel=\"noopener noreferrer\" style=\"background-color:\" target=\"#_blank\" uri=\"seismic\"><div class=\"rank first table-cell rank\">40</div><div class=\"organizationName second table-cell company\">Seismic</div><div class=\"ceoName table-cell ceo\">Doug Winter</div><div class=\"headquarters table-cell country headquarters\">San Diego, California, United States</div><div class=\"employees table-cell employees\">1,500</div><div class=\"marketValue table-cell valuation ($)\">3,000</div><div class=\"industry table-cell what it does\">Sales enablement</div></a>, <a aria-label=\"Zoho\" canexpand=\"\" class=\"table-row active premiumProfile-zoho\" href=\"https://www.forbes.com/companies/zoho/?list=cloud100\" rel=\"noopener noreferrer\" style=\"background-color:\" target=\"#_blank\" uri=\"zoho\"><div class=\"rank first table-cell rank\">41</div><div class=\"organizationName second table-cell company\">Zoho</div><div class=\"ceoName table-cell ceo\">Sridhar Vembu</div><div class=\"headquarters table-cell country headquarters\">Chennai, India; Austin, Texas, United States</div><div class=\"employees table-cell employees\">12,000</div><div class=\"marketValue table-cell valuation ($)\"></div><div class=\"industry table-cell what it does\">Office software suite</div></a>, <a aria-label=\"Postman\" canexpand=\"\" class=\"table-row active premiumProfile-postman\" href=\"https://www.forbes.com/companies/postman/?list=cloud100\" rel=\"noopener noreferrer\" style=\"background-color:\" target=\"#_blank\" uri=\"postman\"><div class=\"rank first table-cell rank\">42</div><div class=\"organizationName second table-cell company\">Postman</div><div class=\"ceoName table-cell ceo\">Abhinav Asthana</div><div class=\"headquarters table-cell country headquarters\">San Francisco, California, United States</div><div class=\"employees table-cell employees\">700</div><div class=\"marketValue table-cell valuation ($)\">5,600</div><div class=\"industry table-cell what it does\">API management</div></a>, <a aria-label=\"Workato\" canexpand=\"\" class=\"table-row active premiumProfile-workato\" href=\"https://www.forbes.com/companies/workato/?list=cloud100\" rel=\"noopener noreferrer\" style=\"background-color:\" target=\"#_blank\" uri=\"workato\"><div class=\"rank first table-cell rank\">43</div><div class=\"organizationName second table-cell company\">Workato</div><div class=\"ceoName table-cell ceo\">Vijay Tella</div><div class=\"headquarters table-cell country headquarters\">Mountain View, California, United States</div><div class=\"employees table-cell employees\">837</div><div class=\"marketValue table-cell valuation ($)\">5,700</div><div class=\"industry table-cell what it does\">Enterprise automation</div></a>, <a aria-label=\"Dataiku\" canexpand=\"\" class=\"table-row active premiumProfile-dataiku\" href=\"https://www.forbes.com/companies/dataiku/?list=cloud100\" rel=\"noopener noreferrer\" style=\"background-color:\" target=\"#_blank\" uri=\"dataiku\"><div class=\"rank first table-cell rank\">44</div><div class=\"organizationName second table-cell company\">Dataiku</div><div class=\"ceoName table-cell ceo\">Florian Douetteau</div><div class=\"headquarters table-cell country headquarters\">New York, New York, United States</div><div class=\"employees table-cell employees\">1,200</div><div class=\"marketValue table-cell valuation ($)\">3,700</div><div class=\"industry table-cell what it does\">Data science platform</div></a>, <a aria-label=\"Cohesity\" canexpand=\"\" class=\"table-row active premiumProfile-cohesity\" href=\"https://www.forbes.com/companies/cohesity/?list=cloud100\" rel=\"noopener noreferrer\" style=\"background-color:\" target=\"#_blank\" uri=\"cohesity\"><div class=\"rank first table-cell rank\">45</div><div class=\"organizationName second table-cell company\">Cohesity</div><div class=\"ceoName table-cell ceo\">Sanjay Poonen</div><div class=\"headquarters table-cell country headquarters\">San Jose, California, United States</div><div class=\"employees table-cell employees\">2,100</div><div class=\"marketValue table-cell valuation ($)\">2,500</div><div class=\"industry table-cell what it does\">Data security and management</div></a>, <a aria-label=\"Algolia\" canexpand=\"\" class=\"table-row active premiumProfile-algolia\" href=\"https://www.forbes.com/companies/algolia/?list=cloud100\" rel=\"noopener noreferrer\" style=\"background-color:\" target=\"#_blank\" uri=\"algolia\"><div class=\"rank first table-cell rank\">46</div><div class=\"organizationName second table-cell company\">Algolia</div><div class=\"ceoName table-cell ceo\">Bernadette Nixon</div><div class=\"headquarters table-cell country headquarters\">San Francisco, California, United States</div><div class=\"employees table-cell employees\">753</div><div class=\"marketValue table-cell valuation ($)\">2,300</div><div class=\"industry table-cell what it does\">Business search API</div></a>, <a aria-label=\"Collibra\" canexpand=\"\" class=\"table-row active premiumProfile-collibra\" href=\"https://www.forbes.com/companies/collibra/?list=cloud100\" rel=\"noopener noreferrer\" style=\"background-color:\" target=\"#_blank\" uri=\"collibra\"><div class=\"rank first table-cell rank\">47</div><div class=\"organizationName second table-cell company\">Collibra</div><div class=\"ceoName table-cell ceo\">Felix Van de Maele</div><div class=\"headquarters table-cell country headquarters\">Brussels, Belgium; New York, New York, United States</div><div class=\"employees table-cell employees\">1,151</div><div class=\"marketValue table-cell valuation ($)\">5,300</div><div class=\"industry table-cell what it does\">Data intelligence</div></a>, <a aria-label=\"Icertis\" canexpand=\"\" class=\"table-row active premiumProfile-icertis\" href=\"https://www.forbes.com/companies/icertis/?list=cloud100\" rel=\"noopener noreferrer\" style=\"background-color:\" target=\"#_blank\" uri=\"icertis\"><div class=\"rank first table-cell rank\">48</div><div class=\"organizationName second table-cell company\">Icertis</div><div class=\"ceoName table-cell ceo\">Samir Bodas</div><div class=\"headquarters table-cell country headquarters\">Bellevue, Washington, United States</div><div class=\"employees table-cell employees\">2,200</div><div class=\"marketValue table-cell valuation ($)\">3,000</div><div class=\"industry table-cell what it does\">Contract intelligence</div></a>, <a aria-label=\"Druva\" canexpand=\"\" class=\"table-row active premiumProfile-druva\" href=\"https://www.forbes.com/companies/druva/?list=cloud100\" rel=\"noopener noreferrer\" style=\"background-color:\" target=\"#_blank\" uri=\"druva\"><div class=\"rank first table-cell rank\">49</div><div class=\"organizationName second table-cell company\">Druva</div><div class=\"ceoName table-cell ceo\">Jaspreet Singh</div><div class=\"headquarters table-cell country headquarters\">Santa Clara, California, United States</div><div class=\"employees table-cell employees\">1,100</div><div class=\"marketValue table-cell valuation ($)\">2,000</div><div class=\"industry table-cell what it does\">Data protection</div></a>, <a aria-label=\"1Password\" canexpand=\"\" class=\"table-row active premiumProfile-1password\" href=\"https://www.forbes.com/companies/1password/?list=cloud100\" rel=\"noopener noreferrer\" style=\"background-color:\" target=\"#_blank\" uri=\"1password\"><div class=\"rank first table-cell rank\">50</div><div class=\"organizationName second table-cell company\">1Password</div><div class=\"ceoName table-cell ceo\">Jeff Shiner</div><div class=\"headquarters table-cell country headquarters\">Toronto, Canada</div><div class=\"employees table-cell employees\">1,027</div><div class=\"marketValue table-cell valuation ($)\">6,800</div><div class=\"industry table-cell what it does\">Identity security</div></a>, <a aria-label=\"Yardi\" canexpand=\"\" class=\"table-row active premiumProfile-yardi\" href=\"https://www.forbes.com/companies/yardi/?list=cloud100\" rel=\"noopener noreferrer\" style=\"background-color:\" target=\"#_blank\" uri=\"yardi\"><div class=\"rank first table-cell rank\">51</div><div class=\"organizationName second table-cell company\">Yardi</div><div class=\"ceoName table-cell ceo\">Anant Yardi</div><div class=\"headquarters table-cell country headquarters\">Santa Barbara, California, United States</div><div class=\"employees table-cell employees\">9,300</div><div class=\"marketValue table-cell valuation ($)\"></div><div class=\"industry table-cell what it does\">Real estate software</div></a>, <a aria-label=\"Fivetran\" canexpand=\"\" class=\"table-row active premiumProfile-fivetran\" href=\"https://www.forbes.com/companies/fivetran/?list=cloud100\" rel=\"noopener noreferrer\" style=\"background-color:\" target=\"#_blank\" uri=\"fivetran\"><div class=\"rank first table-cell rank\">52</div><div class=\"organizationName second table-cell company\">Fivetran</div><div class=\"ceoName table-cell ceo\">George Fraser</div><div class=\"headquarters table-cell country headquarters\">Oakland, California, United States</div><div class=\"employees table-cell employees\">1,150</div><div class=\"marketValue table-cell valuation ($)\">5,600</div><div class=\"industry table-cell what it does\">Automated data movement</div></a>, <a aria-label=\"Checkout.com\" canexpand=\"\" class=\"table-row active premiumProfile-checkout\" href=\"https://www.forbes.com/companies/checkout/?list=cloud100\" rel=\"noopener noreferrer\" style=\"background-color:\" target=\"#_blank\" uri=\"checkout\"><div class=\"rank first table-cell rank\">53</div><div class=\"organizationName second table-cell company\">Checkout.com</div><div class=\"ceoName table-cell ceo\">Guillaume Pousaz</div><div class=\"headquarters table-cell country headquarters\">London, United Kingdom</div><div class=\"employees table-cell employees\">1,900</div><div class=\"marketValue table-cell valuation ($)\">40,000</div><div class=\"industry table-cell what it does\">Global payments provider</div></a>, <a aria-label=\"Rippling\" canexpand=\"\" class=\"table-row active premiumProfile-rippling\" href=\"https://www.forbes.com/companies/rippling/?list=cloud100\" rel=\"noopener noreferrer\" style=\"background-color:\" target=\"#_blank\" uri=\"rippling\"><div class=\"rank first table-cell rank\">54</div><div class=\"organizationName second table-cell company\">Rippling</div><div class=\"ceoName table-cell ceo\">Parker Conrad</div><div class=\"headquarters table-cell country headquarters\">San Francisco, California, United States</div><div class=\"employees table-cell employees\">2,000</div><div class=\"marketValue table-cell valuation ($)\">11,300</div><div class=\"industry table-cell what it does\">Workforce management</div></a>, <a aria-label=\"HiBob\" canexpand=\"\" class=\"table-row active premiumProfile-hibob\" href=\"https://www.forbes.com/companies/hibob/?list=cloud100\" rel=\"noopener noreferrer\" style=\"background-color:\" target=\"#_blank\" uri=\"hibob\"><div class=\"rank first table-cell rank\">55</div><div class=\"organizationName second table-cell company\">HiBob</div><div class=\"ceoName table-cell ceo\">Ronni Zehavi</div><div class=\"headquarters table-cell country headquarters\">London, United Kingdom</div><div class=\"employees table-cell employees\">745</div><div class=\"marketValue table-cell valuation ($)\">2,500</div><div class=\"industry table-cell what it does\">HR software</div></a>, <a aria-label=\"Komodo Health\" canexpand=\"\" class=\"table-row active premiumProfile-komodo-health\" href=\"https://www.forbes.com/companies/komodo-health/?list=cloud100\" rel=\"noopener noreferrer\" style=\"background-color:\" target=\"#_blank\" uri=\"komodo-health\"><div class=\"rank first table-cell rank\">56</div><div class=\"organizationName second table-cell company\">Komodo Health</div><div class=\"ceoName table-cell ceo\">Arif Nathoo</div><div class=\"headquarters table-cell country headquarters\">New York, New York; San Francisco, California, United States</div><div class=\"employees table-cell employees\">800</div><div class=\"marketValue table-cell valuation ($)\">3,300</div><div class=\"industry table-cell what it does\">Health care data analytics</div></a>, <a aria-label=\"Outreach\" canexpand=\"\" class=\"table-row active premiumProfile-outreach\" href=\"https://www.forbes.com/companies/outreach/?list=cloud100\" rel=\"noopener noreferrer\" style=\"background-color:\" target=\"#_blank\" uri=\"outreach\"><div class=\"rank first table-cell rank\">57</div><div class=\"organizationName second table-cell company\">Outreach</div><div class=\"ceoName table-cell ceo\">Manny Medina</div><div class=\"headquarters table-cell country headquarters\">Seattle, Washington, United States</div><div class=\"employees table-cell employees\">1,045</div><div class=\"marketValue table-cell valuation ($)\">4,400</div><div class=\"industry table-cell what it does\">Sales intelligence</div></a>, <a aria-label=\"BrowserStack\" canexpand=\"\" class=\"table-row active premiumProfile-browserstack\" href=\"https://www.forbes.com/companies/browserstack/?list=cloud100\" rel=\"noopener noreferrer\" style=\"background-color:\" target=\"#_blank\" uri=\"browserstack\"><div class=\"rank first table-cell rank\">58</div><div class=\"organizationName second table-cell company\">BrowserStack</div><div class=\"ceoName table-cell ceo\">Ritesh Arora</div><div class=\"headquarters table-cell country headquarters\">Dublin, Ireland</div><div class=\"employees table-cell employees\">1,050</div><div class=\"marketValue table-cell valuation ($)\">4,000</div><div class=\"industry table-cell what it does\">Software testing platform</div></a>, <a aria-label=\"Webflow\" canexpand=\"\" class=\"table-row active premiumProfile-webflow\" href=\"https://www.forbes.com/companies/webflow/?list=cloud100\" rel=\"noopener noreferrer\" style=\"background-color:\" target=\"#_blank\" uri=\"webflow\"><div class=\"rank first table-cell rank\">59</div><div class=\"organizationName second table-cell company\">Webflow</div><div class=\"ceoName table-cell ceo\">Vlad Magdalin</div><div class=\"headquarters table-cell country headquarters\">San Francisco, California, United States</div><div class=\"employees table-cell employees\">600</div><div class=\"marketValue table-cell valuation ($)\">4,000</div><div class=\"industry table-cell what it does\">Visual development platform</div></a>, <a aria-label=\"Pendo\" canexpand=\"\" class=\"table-row active premiumProfile-pendo\" href=\"https://www.forbes.com/companies/pendo/?list=cloud100\" rel=\"noopener noreferrer\" style=\"background-color:\" target=\"#_blank\" uri=\"pendo\"><div class=\"rank first table-cell rank\">60</div><div class=\"organizationName second table-cell company\">Pendo</div><div class=\"ceoName table-cell ceo\">Todd Olson</div><div class=\"headquarters table-cell country headquarters\">Raleigh, North Carolina, United States</div><div class=\"employees table-cell employees\">750</div><div class=\"marketValue table-cell valuation ($)\">2,600</div><div class=\"industry table-cell what it does\">Digital adoption software</div></a>, <a aria-label=\"Lucid\" canexpand=\"\" class=\"table-row active premiumProfile-lucid\" href=\"https://www.forbes.com/companies/lucid/?list=cloud100\" rel=\"noopener noreferrer\" style=\"background-color:\" target=\"#_blank\" uri=\"lucid\"><div class=\"rank first table-cell rank\">61</div><div class=\"organizationName second table-cell company\">Lucid</div><div class=\"ceoName table-cell ceo\">Dave Grow</div><div class=\"headquarters table-cell country headquarters\">South Jordan, Utah, United States</div><div class=\"employees table-cell employees\">1,100</div><div class=\"marketValue table-cell valuation ($)\">3,000</div><div class=\"industry table-cell what it does\">Visual collaboration</div></a>, <a aria-label=\"LaunchDarkly\" canexpand=\"\" class=\"table-row active premiumProfile-launchdarkly\" href=\"https://www.forbes.com/companies/launchdarkly/?list=cloud100\" rel=\"noopener noreferrer\" style=\"background-color:\" target=\"#_blank\" uri=\"launchdarkly\"><div class=\"rank first table-cell rank\">62</div><div class=\"organizationName second table-cell company\">LaunchDarkly</div><div class=\"ceoName table-cell ceo\">Dan Rogers</div><div class=\"headquarters table-cell country headquarters\">Oakland, California, United States</div><div class=\"employees table-cell employees\">525</div><div class=\"marketValue table-cell valuation ($)\">3,000</div><div class=\"industry table-cell what it does\">Software feature management</div></a>, <a aria-label=\"ClickUp\" canexpand=\"\" class=\"table-row active premiumProfile-clickup\" href=\"https://www.forbes.com/companies/clickup/?list=cloud100\" rel=\"noopener noreferrer\" style=\"background-color:\" target=\"#_blank\" uri=\"clickup\"><div class=\"rank first table-cell rank\">63</div><div class=\"organizationName second table-cell company\">ClickUp</div><div class=\"ceoName table-cell ceo\">Zeb Evans</div><div class=\"headquarters table-cell country headquarters\">San Diego, California, United States</div><div class=\"employees table-cell employees\">900</div><div class=\"marketValue table-cell valuation ($)\">4,000</div><div class=\"industry table-cell what it does\">Work collaboration</div></a>, <a aria-label=\"Retool\" canexpand=\"\" class=\"table-row active premiumProfile-retool\" href=\"https://www.forbes.com/companies/retool/?list=cloud100\" rel=\"noopener noreferrer\" style=\"background-color:\" target=\"#_blank\" uri=\"retool\"><div class=\"rank first table-cell rank\">64</div><div class=\"organizationName second table-cell company\">Retool</div><div class=\"ceoName table-cell ceo\">David Hsu</div><div class=\"headquarters table-cell country headquarters\">San Francisco, California, United States</div><div class=\"employees table-cell employees\">307</div><div class=\"marketValue table-cell valuation ($)\">3,200</div><div class=\"industry table-cell what it does\">Internal tool development</div></a>, <a aria-label=\"Razorpay\" canexpand=\"\" class=\"table-row active premiumProfile-razorpay\" href=\"https://www.forbes.com/companies/razorpay/?list=cloud100\" rel=\"noopener noreferrer\" style=\"background-color:\" target=\"#_blank\" uri=\"razorpay\"><div class=\"rank first table-cell rank\">65</div><div class=\"organizationName second table-cell company\">Razorpay</div><div class=\"ceoName table-cell ceo\">Harshil Mathur</div><div class=\"headquarters table-cell country headquarters\">Bangalore, India</div><div class=\"employees table-cell employees\">2,500</div><div class=\"marketValue table-cell valuation ($)\">7,500</div><div class=\"industry table-cell what it does\">Payments software</div></a>, <a aria-label=\"Contentsquare\" canexpand=\"\" class=\"table-row active premiumProfile-contentsquare\" href=\"https://www.forbes.com/companies/contentsquare/?list=cloud100\" rel=\"noopener noreferrer\" style=\"background-color:\" target=\"#_blank\" uri=\"contentsquare\"><div class=\"rank first table-cell rank\">66</div><div class=\"organizationName second table-cell company\">Contentsquare</div><div class=\"ceoName table-cell ceo\">Jonathan Cherki</div><div class=\"headquarters table-cell country headquarters\">Paris, France</div><div class=\"employees table-cell employees\">1,854</div><div class=\"marketValue table-cell valuation ($)\">5,600</div><div class=\"industry table-cell what it does\">Customer analytics</div></a>, <a aria-label=\"6sense\" canexpand=\"\" class=\"table-row active premiumProfile-6sense\" href=\"https://www.forbes.com/companies/6sense/?list=cloud100\" rel=\"noopener noreferrer\" style=\"background-color:\" target=\"#_blank\" uri=\"6sense\"><div class=\"rank first table-cell rank\">67</div><div class=\"organizationName second table-cell company\">6sense</div><div class=\"ceoName table-cell ceo\">Jason Zintak</div><div class=\"headquarters table-cell country headquarters\">San Francisco, California, United States</div><div class=\"employees table-cell employees\">1,200</div><div class=\"marketValue table-cell valuation ($)\">5,200</div><div class=\"industry table-cell what it does\">Account-based marketing</div></a>, <a aria-label=\"Automattic\" canexpand=\"\" class=\"table-row active premiumProfile-automattic\" href=\"https://www.forbes.com/companies/automattic/?list=cloud100\" rel=\"noopener noreferrer\" style=\"background-color:\" target=\"#_blank\" uri=\"automattic\"><div class=\"rank first table-cell rank\">68</div><div class=\"organizationName second table-cell company\">Automattic</div><div class=\"ceoName table-cell ceo\">Matt Mullenweg</div><div class=\"headquarters table-cell country headquarters\">San Francisco, California, United States</div><div class=\"employees table-cell employees\">1,951</div><div class=\"marketValue table-cell valuation ($)\">7,500</div><div class=\"industry table-cell what it does\">Publishing and e-commerce</div></a>, <a aria-label=\"Papaya Global\" canexpand=\"\" class=\"table-row active premiumProfile-papaya-global\" href=\"https://www.forbes.com/companies/papaya-global/?list=cloud100\" rel=\"noopener noreferrer\" style=\"background-color:\" target=\"#_blank\" uri=\"papaya-global\"><div class=\"rank first table-cell rank\">69</div><div class=\"organizationName second table-cell company\">Papaya Global</div><div class=\"ceoName table-cell ceo\">Eynat Guez</div><div class=\"headquarters table-cell country headquarters\">Herzliya, Israel; New York, New York, United States</div><div class=\"employees table-cell employees\">708</div><div class=\"marketValue table-cell valuation ($)\">3,700</div><div class=\"industry table-cell what it does\">Global payroll software</div></a>, <a aria-label=\"Yotpo\" canexpand=\"\" class=\"table-row active premiumProfile-yotpo\" href=\"https://www.forbes.com/companies/yotpo/?list=cloud100\" rel=\"noopener noreferrer\" style=\"background-color:\" target=\"#_blank\" uri=\"yotpo\"><div class=\"rank first table-cell rank\">70</div><div class=\"organizationName second table-cell company\">Yotpo</div><div class=\"ceoName table-cell ceo\">Tomer Tagrin</div><div class=\"headquarters table-cell country headquarters\">New York, New York, United States</div><div class=\"employees table-cell employees\">800</div><div class=\"marketValue table-cell valuation ($)\">1,400</div><div class=\"industry table-cell what it does\">E-commerce marketing platform</div></a>, <a aria-label=\"Highspot\" canexpand=\"\" class=\"table-row active premiumProfile-highspot\" href=\"https://www.forbes.com/companies/highspot/?list=cloud100\" rel=\"noopener noreferrer\" style=\"background-color:\" target=\"#_blank\" uri=\"highspot\"><div class=\"rank first table-cell rank\">71</div><div class=\"organizationName second table-cell company\">Highspot</div><div class=\"ceoName table-cell ceo\">Robert Wahbe</div><div class=\"headquarters table-cell country headquarters\">Seattle, Washington, United States</div><div class=\"employees table-cell employees\">850</div><div class=\"marketValue table-cell valuation ($)\">3,500</div><div class=\"industry table-cell what it does\">Sales enablement</div></a>, <a aria-label=\"OwnBackup\" canexpand=\"\" class=\"table-row active premiumProfile-ownbackup\" href=\"https://www.forbes.com/companies/ownbackup/?list=cloud100\" rel=\"noopener noreferrer\" style=\"background-color:\" target=\"#_blank\" uri=\"ownbackup\"><div class=\"rank first table-cell rank\">72</div><div class=\"organizationName second table-cell company\">OwnBackup</div><div class=\"ceoName table-cell ceo\">Sam Gutmann</div><div class=\"headquarters table-cell country headquarters\">Englewood Cliffs, New Jersey, United States</div><div class=\"employees table-cell employees\">727</div><div class=\"marketValue table-cell valuation ($)\">3,400</div><div class=\"industry table-cell what it does\">Software data protection</div></a>, <a aria-label=\"Anthropic\" canexpand=\"\" class=\"table-row active premiumProfile-anthropic\" href=\"https://www.forbes.com/companies/anthropic/?list=cloud100\" rel=\"noopener noreferrer\" style=\"background-color:\" target=\"#_blank\" uri=\"anthropic\"><div class=\"rank first table-cell rank\">73</div><div class=\"organizationName second table-cell company\">Anthropic</div><div class=\"ceoName table-cell ceo\">Dario Amodei</div><div class=\"headquarters table-cell country headquarters\">San Francisco, California, United States</div><div class=\"employees table-cell employees\">200</div><div class=\"marketValue table-cell valuation ($)\">5,000</div><div class=\"industry table-cell what it does\">AI research and products</div></a>, <a aria-label=\"Sentry\" canexpand=\"\" class=\"table-row active premiumProfile-sentry\" href=\"https://www.forbes.com/companies/sentry/?list=cloud100\" rel=\"noopener noreferrer\" style=\"background-color:\" target=\"#_blank\" uri=\"sentry\"><div class=\"rank first table-cell rank\">74</div><div class=\"organizationName second table-cell company\">Sentry</div><div class=\"ceoName table-cell ceo\">Milin Desai</div><div class=\"headquarters table-cell country headquarters\">San Francisco, California, United States</div><div class=\"employees table-cell employees\">354</div><div class=\"marketValue table-cell valuation ($)\">3,000</div><div class=\"industry table-cell what it does\">App performance monitoring</div></a>, <a aria-label=\"Chainalysis\" canexpand=\"\" class=\"table-row active premiumProfile-chainalysis\" href=\"https://www.forbes.com/companies/chainalysis/?list=cloud100\" rel=\"noopener noreferrer\" style=\"background-color:\" target=\"#_blank\" uri=\"chainalysis\"><div class=\"rank first table-cell rank\">75</div><div class=\"organizationName second table-cell company\">Chainalysis</div><div class=\"ceoName table-cell ceo\">Michael Gronager</div><div class=\"headquarters table-cell country headquarters\">New York, New York, United States</div><div class=\"employees table-cell employees\">900</div><div class=\"marketValue table-cell valuation ($)\">8,600</div><div class=\"industry table-cell what it does\">Blockchain data analytics</div></a>, <a aria-label=\"Forter\" canexpand=\"\" class=\"table-row active premiumProfile-forter\" href=\"https://www.forbes.com/companies/forter/?list=cloud100\" rel=\"noopener noreferrer\" style=\"background-color:\" target=\"#_blank\" uri=\"forter\"><div class=\"rank first table-cell rank\">76</div><div class=\"organizationName second table-cell company\">Forter</div><div class=\"ceoName table-cell ceo\">Michael Reitblat</div><div class=\"headquarters table-cell country headquarters\">New York, New York, United States</div><div class=\"employees table-cell employees\">500</div><div class=\"marketValue table-cell valuation ($)\">3,000</div><div class=\"industry table-cell what it does\">E-commerce fraud prevention</div></a>, <a aria-label=\"Intercom\" canexpand=\"\" class=\"table-row active premiumProfile-intercom\" href=\"https://www.forbes.com/companies/intercom/?list=cloud100\" rel=\"noopener noreferrer\" style=\"background-color:\" target=\"#_blank\" uri=\"intercom\"><div class=\"rank first table-cell rank\">77</div><div class=\"organizationName second table-cell company\">Intercom</div><div class=\"ceoName table-cell ceo\">Eoghan McCabe</div><div class=\"headquarters table-cell country headquarters\">San Francisco, California, United States</div><div class=\"employees table-cell employees\">854</div><div class=\"marketValue table-cell valuation ($)\">1,300</div><div class=\"industry table-cell what it does\">Customer service platform</div></a>, <a aria-label=\"Contentful\" canexpand=\"\" class=\"table-row active premiumProfile-contentful\" href=\"https://www.forbes.com/companies/contentful/?list=cloud100\" rel=\"noopener noreferrer\" style=\"background-color:\" target=\"#_blank\" uri=\"contentful\"><div class=\"rank first table-cell rank\">78</div><div class=\"organizationName second table-cell company\">Contentful</div><div class=\"ceoName table-cell ceo\">Steve Sloan</div><div class=\"headquarters table-cell country headquarters\">Berlin, Germany; San Francisco, California; Denver, Colorado, United States</div><div class=\"employees table-cell employees\">750</div><div class=\"marketValue table-cell valuation ($)\">3,000</div><div class=\"industry table-cell what it does\">Content creation platform</div></a>, <a aria-label=\"Claroty\" canexpand=\"\" class=\"table-row active premiumProfile-claroty\" href=\"https://www.forbes.com/companies/claroty/?list=cloud100\" rel=\"noopener noreferrer\" style=\"background-color:\" target=\"#_blank\" uri=\"claroty\"><div class=\"rank first table-cell rank\">79</div><div class=\"organizationName second table-cell company\">Claroty</div><div class=\"ceoName table-cell ceo\">Yaniv Vardi</div><div class=\"headquarters table-cell country headquarters\">New York, New York, United States</div><div class=\"employees table-cell employees\">488</div><div class=\"marketValue table-cell valuation ($)\">1,100</div><div class=\"industry table-cell what it does\">Industrial cybersecurity</div></a>, <a aria-label=\"Abnormal Security\" canexpand=\"\" class=\"table-row active premiumProfile-abnormal-security\" href=\"https://www.forbes.com/companies/abnormal-security/?list=cloud100\" rel=\"noopener noreferrer\" style=\"background-color:\" target=\"#_blank\" uri=\"abnormal-security\"><div class=\"rank first table-cell rank\">80</div><div class=\"organizationName second table-cell company\">Abnormal Security</div><div class=\"ceoName table-cell ceo\">Evan Reiser</div><div class=\"headquarters table-cell country headquarters\">San Francisco, California, United States</div><div class=\"employees table-cell employees\">500</div><div class=\"marketValue table-cell valuation ($)\">4,000</div><div class=\"industry table-cell what it does\">Email security</div></a>, <a aria-label=\"Cloudinary\" canexpand=\"\" class=\"table-row active premiumProfile-cloudinary\" href=\"https://www.forbes.com/companies/cloudinary/?list=cloud100\" rel=\"noopener noreferrer\" style=\"background-color:\" target=\"#_blank\" uri=\"cloudinary\"><div class=\"rank first table-cell rank\">81</div><div class=\"organizationName second table-cell company\">Cloudinary</div><div class=\"ceoName table-cell ceo\">Itai Lahan</div><div class=\"headquarters table-cell country headquarters\">Santa Clara, California, United States</div><div class=\"employees table-cell employees\">476</div><div class=\"marketValue table-cell valuation ($)\">2,000</div><div class=\"industry table-cell what it does\">Media management</div></a>, <a aria-label=\"Vanta\" canexpand=\"\" class=\"table-row active premiumProfile-vanta\" href=\"https://www.forbes.com/companies/vanta/?list=cloud100\" rel=\"noopener noreferrer\" style=\"background-color:\" target=\"#_blank\" uri=\"vanta\"><div class=\"rank first table-cell rank\">82</div><div class=\"organizationName second table-cell company\">Vanta</div><div class=\"ceoName table-cell ceo\">Christina Cacioppo</div><div class=\"headquarters table-cell country headquarters\">San Francisco, California, United States</div><div class=\"employees table-cell employees\">340</div><div class=\"marketValue table-cell valuation ($)\">1,600</div><div class=\"industry table-cell what it does\">Security and compliance</div></a>, <a aria-label=\"Dbt Labs\" canexpand=\"\" class=\"table-row active premiumProfile-dbt-labs\" href=\"https://www.forbes.com/companies/dbt-labs/?list=cloud100\" rel=\"noopener noreferrer\" style=\"background-color:\" target=\"#_blank\" uri=\"dbt-labs\"><div class=\"rank first table-cell rank\">83</div><div class=\"organizationName second table-cell company\">Dbt Labs</div><div class=\"ceoName table-cell ceo\">Tristan Handy</div><div class=\"headquarters table-cell country headquarters\">Philadelphia, Pennsylvania, United States</div><div class=\"employees table-cell employees\">376</div><div class=\"marketValue table-cell valuation ($)\">4,200</div><div class=\"industry table-cell what it does\">Data transformation</div></a>, <a aria-label=\"ActiveCampaign\" canexpand=\"\" class=\"table-row active premiumProfile-activecampaign\" href=\"https://www.forbes.com/companies/activecampaign/?list=cloud100\" rel=\"noopener noreferrer\" style=\"background-color:\" target=\"#_blank\" uri=\"activecampaign\"><div class=\"rank first table-cell rank\">84</div><div class=\"organizationName second table-cell company\">ActiveCampaign</div><div class=\"ceoName table-cell ceo\">Jason VandeBoom</div><div class=\"headquarters table-cell country headquarters\">Chicago, Illinois, United States</div><div class=\"employees table-cell employees\">912</div><div class=\"marketValue table-cell valuation ($)\">3,000</div><div class=\"industry table-cell what it does\">Marketing automation</div></a>, <a aria-label=\"Midjourney\" canexpand=\"\" class=\"table-row active premiumProfile-midjourney\" href=\"https://www.forbes.com/companies/midjourney/?list=cloud100\" rel=\"noopener noreferrer\" style=\"background-color:\" target=\"#_blank\" uri=\"midjourney\"><div class=\"rank first table-cell rank\">85</div><div class=\"organizationName second table-cell company\">Midjourney</div><div class=\"ceoName table-cell ceo\">David Holz</div><div class=\"headquarters table-cell country headquarters\">San Francisco, California, United States</div><div class=\"employees table-cell employees\">44</div><div class=\"marketValue table-cell valuation ($)\"></div><div class=\"industry table-cell what it does\">AI image generator</div></a>, <a aria-label=\"Brightwheel\" canexpand=\"\" class=\"table-row active premiumProfile-brightwheel\" href=\"https://www.forbes.com/companies/brightwheel/?list=cloud100\" rel=\"noopener noreferrer\" style=\"background-color:\" target=\"#_blank\" uri=\"brightwheel\"><div class=\"rank first table-cell rank\">86</div><div class=\"organizationName second table-cell company\">Brightwheel</div><div class=\"ceoName table-cell ceo\">Dave Vasen</div><div class=\"headquarters table-cell country headquarters\">San Francisco, California, United States</div><div class=\"employees table-cell employees\">400</div><div class=\"marketValue table-cell valuation ($)\">605</div><div class=\"industry table-cell what it does\">Childcare management</div></a>, <a aria-label=\"Tekion\" canexpand=\"\" class=\"table-row active premiumProfile-tekion\" href=\"https://www.forbes.com/companies/tekion/?list=cloud100\" rel=\"noopener noreferrer\" style=\"background-color:\" target=\"#_blank\" uri=\"tekion\"><div class=\"rank first table-cell rank\">87</div><div class=\"organizationName second table-cell company\">Tekion</div><div class=\"ceoName table-cell ceo\">Jay Vijayan</div><div class=\"headquarters table-cell country headquarters\">Pleasanton, California, United States</div><div class=\"employees table-cell employees\">3,043</div><div class=\"marketValue table-cell valuation ($)\">3,500</div><div class=\"industry table-cell what it does\">Automotive retail platform</div></a>, <a aria-label=\"Personio\" canexpand=\"\" class=\"table-row active premiumProfile-personio\" href=\"https://www.forbes.com/companies/personio/?list=cloud100\" rel=\"noopener noreferrer\" style=\"background-color:\" target=\"#_blank\" uri=\"personio\"><div class=\"rank first table-cell rank\">88</div><div class=\"organizationName second table-cell company\">Personio</div><div class=\"ceoName table-cell ceo\">Hanno Renner</div><div class=\"headquarters table-cell country headquarters\">Munich, Germany</div><div class=\"employees table-cell employees\">1,700</div><div class=\"marketValue table-cell valuation ($)\">8,500</div><div class=\"industry table-cell what it does\">HR software</div></a>, <a aria-label=\"Axonius\" canexpand=\"\" class=\"table-row active premiumProfile-axonius\" href=\"https://www.forbes.com/companies/axonius/?list=cloud100\" rel=\"noopener noreferrer\" style=\"background-color:\" target=\"#_blank\" uri=\"axonius\"><div class=\"rank first table-cell rank\">89</div><div class=\"organizationName second table-cell company\">Axonius</div><div class=\"ceoName table-cell ceo\">Dean Sysman</div><div class=\"headquarters table-cell country headquarters\">New York, New York, United States</div><div class=\"employees table-cell employees\">589</div><div class=\"marketValue table-cell valuation ($)\">2,600</div><div class=\"industry table-cell what it does\">Cybersecurity asset management</div></a>, <a aria-label=\"Harness\" canexpand=\"\" class=\"table-row active premiumProfile-harness\" href=\"https://www.forbes.com/companies/harness/?list=cloud100\" rel=\"noopener noreferrer\" style=\"background-color:\" target=\"#_blank\" uri=\"harness\"><div class=\"rank first table-cell rank\">90</div><div class=\"organizationName second table-cell company\">Harness</div><div class=\"ceoName table-cell ceo\">Jyoti Bansal</div><div class=\"headquarters table-cell country headquarters\">San Francisco, California, United States</div><div class=\"employees table-cell employees\">720</div><div class=\"marketValue table-cell valuation ($)\">3,700</div><div class=\"industry table-cell what it does\">Software delivery</div></a>, <a aria-label=\"Kong Inc.\" canexpand=\"\" class=\"table-row active premiumProfile-kong\" href=\"https://www.forbes.com/companies/kong/?list=cloud100\" rel=\"noopener noreferrer\" style=\"background-color:\" target=\"#_blank\" uri=\"kong\"><div class=\"rank first table-cell rank\">91</div><div class=\"organizationName second table-cell company\">Kong Inc.</div><div class=\"ceoName table-cell ceo\">Augusto Marietti</div><div class=\"headquarters table-cell country headquarters\">San Francisco, California, United States</div><div class=\"employees table-cell employees\">500</div><div class=\"marketValue table-cell valuation ($)\">1,400</div><div class=\"industry table-cell what it does\">API management</div></a>, <a aria-label=\"Moveworks\" canexpand=\"\" class=\"table-row active premiumProfile-moveworks\" href=\"https://www.forbes.com/companies/moveworks/?list=cloud100\" rel=\"noopener noreferrer\" style=\"background-color:\" target=\"#_blank\" uri=\"moveworks\"><div class=\"rank first table-cell rank\">92</div><div class=\"organizationName second table-cell company\">Moveworks</div><div class=\"ceoName table-cell ceo\">Bhavin Shah</div><div class=\"headquarters table-cell country headquarters\">Mountain View, California, United States</div><div class=\"employees table-cell employees\">447</div><div class=\"marketValue table-cell valuation ($)\">2,100</div><div class=\"industry table-cell what it does\">AI support automation</div></a>, <a aria-label=\"Front\" canexpand=\"\" class=\"table-row active premiumProfile-front\" href=\"https://www.forbes.com/companies/front/?list=cloud100\" rel=\"noopener noreferrer\" style=\"background-color:\" target=\"#_blank\" uri=\"front\"><div class=\"rank first table-cell rank\">93</div><div class=\"organizationName second table-cell company\">Front</div><div class=\"ceoName table-cell ceo\">Mathilde Collin</div><div class=\"headquarters table-cell country headquarters\">San Francisco, California, United States</div><div class=\"employees table-cell employees\">275</div><div class=\"marketValue table-cell valuation ($)\">1,700</div><div class=\"industry table-cell what it does\">Customer operations</div></a>, <a aria-label=\"Mambu\" canexpand=\"\" class=\"table-row active premiumProfile-mambu\" href=\"https://www.forbes.com/companies/mambu/?list=cloud100\" rel=\"noopener noreferrer\" style=\"background-color:\" target=\"#_blank\" uri=\"mambu\"><div class=\"rank first table-cell rank\">94</div><div class=\"organizationName second table-cell company\">Mambu</div><div class=\"ceoName table-cell ceo\">Fernando Zandona</div><div class=\"headquarters table-cell country headquarters\">Amsterdam, Netherlands</div><div class=\"employees table-cell employees\">964</div><div class=\"marketValue table-cell valuation ($)\">5,000</div><div class=\"industry table-cell what it does\">Cloud banking platform</div></a>, <a aria-label=\"Orca Security\" canexpand=\"\" class=\"table-row active premiumProfile-orca-security\" href=\"https://www.forbes.com/companies/orca-security/?list=cloud100\" rel=\"noopener noreferrer\" style=\"background-color:\" target=\"#_blank\" uri=\"orca-security\"><div class=\"rank first table-cell rank\">95</div><div class=\"organizationName second table-cell company\">Orca Security</div><div class=\"ceoName table-cell ceo\">Gil Geron</div><div class=\"headquarters table-cell country headquarters\">Portland, Oregon, United States</div><div class=\"employees table-cell employees\">447</div><div class=\"marketValue table-cell valuation ($)\">1,800</div><div class=\"industry table-cell what it does\">Cloud security</div></a>, <a aria-label=\"Cribl\" canexpand=\"\" class=\"table-row active premiumProfile-cribl\" href=\"https://www.forbes.com/companies/cribl/?list=cloud100\" rel=\"noopener noreferrer\" style=\"background-color:\" target=\"#_blank\" uri=\"cribl\"><div class=\"rank first table-cell rank\">96</div><div class=\"organizationName second table-cell company\">Cribl</div><div class=\"ceoName table-cell ceo\">Clint Sharp</div><div class=\"headquarters table-cell country headquarters\">San Francisco, California, United States</div><div class=\"employees table-cell employees\">525</div><div class=\"marketValue table-cell valuation ($)\">2,500</div><div class=\"industry table-cell what it does\">Data observability</div></a>, <a aria-label=\"Cockroach Labs\" canexpand=\"\" class=\"table-row active premiumProfile-cockroach-labs\" href=\"https://www.forbes.com/companies/cockroach-labs/?list=cloud100\" rel=\"noopener noreferrer\" style=\"background-color:\" target=\"#_blank\" uri=\"cockroach-labs\"><div class=\"rank first table-cell rank\">97</div><div class=\"organizationName second table-cell company\">Cockroach Labs</div><div class=\"ceoName table-cell ceo\">Spencer Kimball</div><div class=\"headquarters table-cell country headquarters\">New York, New York, United States</div><div class=\"employees table-cell employees\">460</div><div class=\"marketValue table-cell valuation ($)\">5,000</div><div class=\"industry table-cell what it does\">Database management</div></a>, <a aria-label=\"Hugging Face\" canexpand=\"\" class=\"table-row active premiumProfile-hugging-face\" href=\"https://www.forbes.com/companies/hugging-face/?list=cloud100\" rel=\"noopener noreferrer\" style=\"background-color:\" target=\"#_blank\" uri=\"hugging-face\"><div class=\"rank first table-cell rank\">98</div><div class=\"organizationName second table-cell company\">Hugging Face</div><div class=\"ceoName table-cell ceo\">Clément Delangue</div><div class=\"headquarters table-cell country headquarters\">New York, New York, United States</div><div class=\"employees table-cell employees\">200</div><div class=\"marketValue table-cell valuation ($)\">2,000</div><div class=\"industry table-cell what it does\">Open-source AI library</div></a>, <a aria-label=\"MessageBird\" canexpand=\"\" class=\"table-row active premiumProfile-messagebird\" href=\"https://www.forbes.com/companies/messagebird/?list=cloud100\" rel=\"noopener noreferrer\" style=\"background-color:\" target=\"#_blank\" uri=\"messagebird\"><div class=\"rank first table-cell rank\">99</div><div class=\"organizationName second table-cell company\">MessageBird</div><div class=\"ceoName table-cell ceo\">Robert Vis</div><div class=\"headquarters table-cell country headquarters\">Amsterdam, Netherlands</div><div class=\"employees table-cell employees\">600</div><div class=\"marketValue table-cell valuation ($)\">3,800</div><div class=\"industry table-cell what it does\">Communications platform</div></a>, <a aria-label=\"DeepL\" canexpand=\"\" class=\"table-row active premiumProfile-deepl\" href=\"https://www.forbes.com/companies/deepl/?list=cloud100\" rel=\"noopener noreferrer\" style=\"background-color:\" target=\"#_blank\" uri=\"deepl\"><div class=\"rank first table-cell rank\">100</div><div class=\"organizationName second table-cell company\">DeepL</div><div class=\"ceoName table-cell ceo\">Jarek Kutylowski</div><div class=\"headquarters table-cell country headquarters\">Cologne, Germany</div><div class=\"employees table-cell employees\">600</div><div class=\"marketValue table-cell valuation ($)\">1,000</div><div class=\"industry table-cell what it does\">AI translation service</div></a>]\n"
          ]
        }
      ]
    },
    {
      "cell_type": "code",
      "source": [
        "for link in links:\n",
        "  print(link.get('href'))"
      ],
      "metadata": {
        "colab": {
          "base_uri": "https://localhost:8080/"
        },
        "id": "rbDXsxLXLqFg",
        "outputId": "bd3a217b-bc67-495b-f7bb-3c86032efc12"
      },
      "execution_count": null,
      "outputs": [
        {
          "output_type": "stream",
          "name": "stdout",
          "text": [
            "https://www.forbes.com/companies/openai/?list=cloud100\n",
            "https://www.forbes.com/companies/databricks/?list=cloud100\n",
            "https://www.forbes.com/companies/stripe/?list=cloud100\n",
            "https://www.forbes.com/companies/canva/?list=cloud100\n",
            "https://www.forbes.com/companies/servicetitan/?list=cloud100\n",
            "https://www.forbes.com/companies/klaviyo/?list=cloud100\n",
            "https://www.forbes.com/companies/grammarly/?list=cloud100\n",
            "https://www.forbes.com/companies/talkdesk/?list=cloud100\n",
            "https://www.forbes.com/companies/rubrik/?list=cloud100\n",
            "https://www.forbes.com/companies/miro/?list=cloud100\n",
            "https://www.forbes.com/companies/navan/?list=cloud100\n",
            "https://www.forbes.com/companies/netskope/?list=cloud100\n",
            "https://www.forbes.com/companies/tanium/?list=cloud100\n",
            "https://www.forbes.com/companies/attentive/?list=cloud100\n",
            "https://www.forbes.com/companies/wiz/?list=cloud100\n",
            "https://www.forbes.com/companies/carta/?list=cloud100\n",
            "https://www.forbes.com/companies/celonis/?list=cloud100\n",
            "https://www.forbes.com/companies/grafana-labs/?list=cloud100\n",
            "https://www.forbes.com/companies/snyk/?list=cloud100\n",
            "https://www.forbes.com/companies/benchling/?list=cloud100\n",
            "https://www.forbes.com/companies/onetrust/?list=cloud100\n",
            "https://www.forbes.com/companies/checkr/?list=cloud100\n",
            "https://www.forbes.com/companies/gong/?list=cloud100\n",
            "https://www.forbes.com/companies/zapier/?list=cloud100\n",
            "https://www.forbes.com/companies/dialpad/?list=cloud100\n",
            "https://www.forbes.com/companies/gusto/?list=cloud100\n",
            "https://www.forbes.com/companies/appsflyer/?list=cloud100\n",
            "https://www.forbes.com/companies/airtable/?list=cloud100\n",
            "https://www.forbes.com/companies/arctic-wolf/?list=cloud100\n",
            "https://www.forbes.com/companies/outsystems/?list=cloud100\n",
            "https://www.forbes.com/companies/guild/?list=cloud100\n",
            "https://www.forbes.com/companies/motive/?list=cloud100\n",
            "https://www.forbes.com/companies/scale-ai/?list=cloud100\n",
            "https://www.forbes.com/companies/calendly/?list=cloud100\n",
            "https://www.forbes.com/companies/notion/?list=cloud100\n",
            "https://www.forbes.com/companies/plaid/?list=cloud100\n",
            "https://www.forbes.com/companies/automation-anywhere/?list=cloud100\n",
            "https://www.forbes.com/companies/deel/?list=cloud100\n",
            "https://www.forbes.com/companies/highradius/?list=cloud100\n",
            "https://www.forbes.com/companies/seismic/?list=cloud100\n",
            "https://www.forbes.com/companies/zoho/?list=cloud100\n",
            "https://www.forbes.com/companies/postman/?list=cloud100\n",
            "https://www.forbes.com/companies/workato/?list=cloud100\n",
            "https://www.forbes.com/companies/dataiku/?list=cloud100\n",
            "https://www.forbes.com/companies/cohesity/?list=cloud100\n",
            "https://www.forbes.com/companies/algolia/?list=cloud100\n",
            "https://www.forbes.com/companies/collibra/?list=cloud100\n",
            "https://www.forbes.com/companies/icertis/?list=cloud100\n",
            "https://www.forbes.com/companies/druva/?list=cloud100\n",
            "https://www.forbes.com/companies/1password/?list=cloud100\n",
            "https://www.forbes.com/companies/yardi/?list=cloud100\n",
            "https://www.forbes.com/companies/fivetran/?list=cloud100\n",
            "https://www.forbes.com/companies/checkout/?list=cloud100\n",
            "https://www.forbes.com/companies/rippling/?list=cloud100\n",
            "https://www.forbes.com/companies/hibob/?list=cloud100\n",
            "https://www.forbes.com/companies/komodo-health/?list=cloud100\n",
            "https://www.forbes.com/companies/outreach/?list=cloud100\n",
            "https://www.forbes.com/companies/browserstack/?list=cloud100\n",
            "https://www.forbes.com/companies/webflow/?list=cloud100\n",
            "https://www.forbes.com/companies/pendo/?list=cloud100\n",
            "https://www.forbes.com/companies/lucid/?list=cloud100\n",
            "https://www.forbes.com/companies/launchdarkly/?list=cloud100\n",
            "https://www.forbes.com/companies/clickup/?list=cloud100\n",
            "https://www.forbes.com/companies/retool/?list=cloud100\n",
            "https://www.forbes.com/companies/razorpay/?list=cloud100\n",
            "https://www.forbes.com/companies/contentsquare/?list=cloud100\n",
            "https://www.forbes.com/companies/6sense/?list=cloud100\n",
            "https://www.forbes.com/companies/automattic/?list=cloud100\n",
            "https://www.forbes.com/companies/papaya-global/?list=cloud100\n",
            "https://www.forbes.com/companies/yotpo/?list=cloud100\n",
            "https://www.forbes.com/companies/highspot/?list=cloud100\n",
            "https://www.forbes.com/companies/ownbackup/?list=cloud100\n",
            "https://www.forbes.com/companies/anthropic/?list=cloud100\n",
            "https://www.forbes.com/companies/sentry/?list=cloud100\n",
            "https://www.forbes.com/companies/chainalysis/?list=cloud100\n",
            "https://www.forbes.com/companies/forter/?list=cloud100\n",
            "https://www.forbes.com/companies/intercom/?list=cloud100\n",
            "https://www.forbes.com/companies/contentful/?list=cloud100\n",
            "https://www.forbes.com/companies/claroty/?list=cloud100\n",
            "https://www.forbes.com/companies/abnormal-security/?list=cloud100\n",
            "https://www.forbes.com/companies/cloudinary/?list=cloud100\n",
            "https://www.forbes.com/companies/vanta/?list=cloud100\n",
            "https://www.forbes.com/companies/dbt-labs/?list=cloud100\n",
            "https://www.forbes.com/companies/activecampaign/?list=cloud100\n",
            "https://www.forbes.com/companies/midjourney/?list=cloud100\n",
            "https://www.forbes.com/companies/brightwheel/?list=cloud100\n",
            "https://www.forbes.com/companies/tekion/?list=cloud100\n",
            "https://www.forbes.com/companies/personio/?list=cloud100\n",
            "https://www.forbes.com/companies/axonius/?list=cloud100\n",
            "https://www.forbes.com/companies/harness/?list=cloud100\n",
            "https://www.forbes.com/companies/kong/?list=cloud100\n",
            "https://www.forbes.com/companies/moveworks/?list=cloud100\n",
            "https://www.forbes.com/companies/front/?list=cloud100\n",
            "https://www.forbes.com/companies/mambu/?list=cloud100\n",
            "https://www.forbes.com/companies/orca-security/?list=cloud100\n",
            "https://www.forbes.com/companies/cribl/?list=cloud100\n",
            "https://www.forbes.com/companies/cockroach-labs/?list=cloud100\n",
            "https://www.forbes.com/companies/hugging-face/?list=cloud100\n",
            "https://www.forbes.com/companies/messagebird/?list=cloud100\n",
            "https://www.forbes.com/companies/deepl/?list=cloud100\n"
          ]
        }
      ]
    },
    {
      "cell_type": "code",
      "source": [
        "ranks = soup.find_all('div',class_='rank')\n",
        "print(ranks)\n"
      ],
      "metadata": {
        "colab": {
          "base_uri": "https://localhost:8080/"
        },
        "id": "9yc8E64Z2HeS",
        "outputId": "3dd57594-abca-4986-daac-54d4d827d46e"
      },
      "execution_count": null,
      "outputs": [
        {
          "output_type": "stream",
          "name": "stdout",
          "text": [
            "[<div class=\"rank first table-cell rank\">1</div>, <div class=\"rank first table-cell rank\">2</div>, <div class=\"rank first table-cell rank\">3</div>, <div class=\"rank first table-cell rank\">4</div>, <div class=\"rank first table-cell rank\">5</div>, <div class=\"rank first table-cell rank\">6</div>, <div class=\"rank first table-cell rank\">7</div>, <div class=\"rank first table-cell rank\">8</div>, <div class=\"rank first table-cell rank\">9</div>, <div class=\"rank first table-cell rank\">10</div>, <div class=\"rank first table-cell rank\">11</div>, <div class=\"rank first table-cell rank\">12</div>, <div class=\"rank first table-cell rank\">13</div>, <div class=\"rank first table-cell rank\">14</div>, <div class=\"rank first table-cell rank\">15</div>, <div class=\"rank first table-cell rank\">16</div>, <div class=\"rank first table-cell rank\">17</div>, <div class=\"rank first table-cell rank\">18</div>, <div class=\"rank first table-cell rank\">19</div>, <div class=\"rank first table-cell rank\">20</div>, <div class=\"rank first table-cell rank\">21</div>, <div class=\"rank first table-cell rank\">22</div>, <div class=\"rank first table-cell rank\">23</div>, <div class=\"rank first table-cell rank\">24</div>, <div class=\"rank first table-cell rank\">25</div>, <div class=\"rank first table-cell rank\">26</div>, <div class=\"rank first table-cell rank\">27</div>, <div class=\"rank first table-cell rank\">28</div>, <div class=\"rank first table-cell rank\">29</div>, <div class=\"rank first table-cell rank\">30</div>, <div class=\"rank first table-cell rank\">31</div>, <div class=\"rank first table-cell rank\">32</div>, <div class=\"rank first table-cell rank\">33</div>, <div class=\"rank first table-cell rank\">34</div>, <div class=\"rank first table-cell rank\">35</div>, <div class=\"rank first table-cell rank\">36</div>, <div class=\"rank first table-cell rank\">37</div>, <div class=\"rank first table-cell rank\">38</div>, <div class=\"rank first table-cell rank\">39</div>, <div class=\"rank first table-cell rank\">40</div>, <div class=\"rank first table-cell rank\">41</div>, <div class=\"rank first table-cell rank\">42</div>, <div class=\"rank first table-cell rank\">43</div>, <div class=\"rank first table-cell rank\">44</div>, <div class=\"rank first table-cell rank\">45</div>, <div class=\"rank first table-cell rank\">46</div>, <div class=\"rank first table-cell rank\">47</div>, <div class=\"rank first table-cell rank\">48</div>, <div class=\"rank first table-cell rank\">49</div>, <div class=\"rank first table-cell rank\">50</div>, <div class=\"rank first table-cell rank\">51</div>, <div class=\"rank first table-cell rank\">52</div>, <div class=\"rank first table-cell rank\">53</div>, <div class=\"rank first table-cell rank\">54</div>, <div class=\"rank first table-cell rank\">55</div>, <div class=\"rank first table-cell rank\">56</div>, <div class=\"rank first table-cell rank\">57</div>, <div class=\"rank first table-cell rank\">58</div>, <div class=\"rank first table-cell rank\">59</div>, <div class=\"rank first table-cell rank\">60</div>, <div class=\"rank first table-cell rank\">61</div>, <div class=\"rank first table-cell rank\">62</div>, <div class=\"rank first table-cell rank\">63</div>, <div class=\"rank first table-cell rank\">64</div>, <div class=\"rank first table-cell rank\">65</div>, <div class=\"rank first table-cell rank\">66</div>, <div class=\"rank first table-cell rank\">67</div>, <div class=\"rank first table-cell rank\">68</div>, <div class=\"rank first table-cell rank\">69</div>, <div class=\"rank first table-cell rank\">70</div>, <div class=\"rank first table-cell rank\">71</div>, <div class=\"rank first table-cell rank\">72</div>, <div class=\"rank first table-cell rank\">73</div>, <div class=\"rank first table-cell rank\">74</div>, <div class=\"rank first table-cell rank\">75</div>, <div class=\"rank first table-cell rank\">76</div>, <div class=\"rank first table-cell rank\">77</div>, <div class=\"rank first table-cell rank\">78</div>, <div class=\"rank first table-cell rank\">79</div>, <div class=\"rank first table-cell rank\">80</div>, <div class=\"rank first table-cell rank\">81</div>, <div class=\"rank first table-cell rank\">82</div>, <div class=\"rank first table-cell rank\">83</div>, <div class=\"rank first table-cell rank\">84</div>, <div class=\"rank first table-cell rank\">85</div>, <div class=\"rank first table-cell rank\">86</div>, <div class=\"rank first table-cell rank\">87</div>, <div class=\"rank first table-cell rank\">88</div>, <div class=\"rank first table-cell rank\">89</div>, <div class=\"rank first table-cell rank\">90</div>, <div class=\"rank first table-cell rank\">91</div>, <div class=\"rank first table-cell rank\">92</div>, <div class=\"rank first table-cell rank\">93</div>, <div class=\"rank first table-cell rank\">94</div>, <div class=\"rank first table-cell rank\">95</div>, <div class=\"rank first table-cell rank\">96</div>, <div class=\"rank first table-cell rank\">97</div>, <div class=\"rank first table-cell rank\">98</div>, <div class=\"rank first table-cell rank\">99</div>, <div class=\"rank first table-cell rank\">100</div>]\n"
          ]
        }
      ]
    },
    {
      "cell_type": "code",
      "source": [
        "for rank in ranks:\n",
        "  print(rank.text)"
      ],
      "metadata": {
        "colab": {
          "base_uri": "https://localhost:8080/"
        },
        "id": "ZbhaFQ6X2VJc",
        "outputId": "4fe74f9a-2fa6-43bf-849f-993c7564ceda"
      },
      "execution_count": null,
      "outputs": [
        {
          "output_type": "stream",
          "name": "stdout",
          "text": [
            "1\n",
            "2\n",
            "3\n",
            "4\n",
            "5\n",
            "6\n",
            "7\n",
            "8\n",
            "9\n",
            "10\n",
            "11\n",
            "12\n",
            "13\n",
            "14\n",
            "15\n",
            "16\n",
            "17\n",
            "18\n",
            "19\n",
            "20\n",
            "21\n",
            "22\n",
            "23\n",
            "24\n",
            "25\n",
            "26\n",
            "27\n",
            "28\n",
            "29\n",
            "30\n",
            "31\n",
            "32\n",
            "33\n",
            "34\n",
            "35\n",
            "36\n",
            "37\n",
            "38\n",
            "39\n",
            "40\n",
            "41\n",
            "42\n",
            "43\n",
            "44\n",
            "45\n",
            "46\n",
            "47\n",
            "48\n",
            "49\n",
            "50\n",
            "51\n",
            "52\n",
            "53\n",
            "54\n",
            "55\n",
            "56\n",
            "57\n",
            "58\n",
            "59\n",
            "60\n",
            "61\n",
            "62\n",
            "63\n",
            "64\n",
            "65\n",
            "66\n",
            "67\n",
            "68\n",
            "69\n",
            "70\n",
            "71\n",
            "72\n",
            "73\n",
            "74\n",
            "75\n",
            "76\n",
            "77\n",
            "78\n",
            "79\n",
            "80\n",
            "81\n",
            "82\n",
            "83\n",
            "84\n",
            "85\n",
            "86\n",
            "87\n",
            "88\n",
            "89\n",
            "90\n",
            "91\n",
            "92\n",
            "93\n",
            "94\n",
            "95\n",
            "96\n",
            "97\n",
            "98\n",
            "99\n",
            "100\n"
          ]
        }
      ]
    },
    {
      "cell_type": "code",
      "source": [
        "import pandas as pd\n",
        "from google.colab import files\n",
        "df1 = pd.DataFrame(ranks)\n",
        "df2 = pd.DataFrame(contents)\n",
        "df3 = pd.DataFrame(ceos)\n",
        "df4 = pd.DataFrame(headquarterss)\n",
        "df5 = pd.DataFrame(employeess)\n",
        "df7 = pd.DataFrame(whatitdoess)"
      ],
      "metadata": {
        "id": "84UFOpHGymvP"
      },
      "execution_count": null,
      "outputs": []
    },
    {
      "cell_type": "code",
      "source": [
        "combined_df=pd.concat([df1,df2,df3,df4,df5,df7],axis=1)"
      ],
      "metadata": {
        "id": "raC6vNxczefa"
      },
      "execution_count": null,
      "outputs": []
    },
    {
      "cell_type": "code",
      "source": [
        "combined_df.to_csv('output.csv', index=False)"
      ],
      "metadata": {
        "id": "KTy2z33MzmIc"
      },
      "execution_count": null,
      "outputs": []
    },
    {
      "cell_type": "code",
      "source": [
        "from google.colab import files\n",
        "files.download('output.csv')"
      ],
      "metadata": {
        "colab": {
          "base_uri": "https://localhost:8080/",
          "height": 17
        },
        "id": "FxndO5_477WB",
        "outputId": "35d597ee-8dad-4db6-b0d4-3312f6772c2e"
      },
      "execution_count": null,
      "outputs": [
        {
          "output_type": "display_data",
          "data": {
            "text/plain": [
              "<IPython.core.display.Javascript object>"
            ],
            "application/javascript": [
              "\n",
              "    async function download(id, filename, size) {\n",
              "      if (!google.colab.kernel.accessAllowed) {\n",
              "        return;\n",
              "      }\n",
              "      const div = document.createElement('div');\n",
              "      const label = document.createElement('label');\n",
              "      label.textContent = `Downloading \"${filename}\": `;\n",
              "      div.appendChild(label);\n",
              "      const progress = document.createElement('progress');\n",
              "      progress.max = size;\n",
              "      div.appendChild(progress);\n",
              "      document.body.appendChild(div);\n",
              "\n",
              "      const buffers = [];\n",
              "      let downloaded = 0;\n",
              "\n",
              "      const channel = await google.colab.kernel.comms.open(id);\n",
              "      // Send a message to notify the kernel that we're ready.\n",
              "      channel.send({})\n",
              "\n",
              "      for await (const message of channel.messages) {\n",
              "        // Send a message to notify the kernel that we're ready.\n",
              "        channel.send({})\n",
              "        if (message.buffers) {\n",
              "          for (const buffer of message.buffers) {\n",
              "            buffers.push(buffer);\n",
              "            downloaded += buffer.byteLength;\n",
              "            progress.value = downloaded;\n",
              "          }\n",
              "        }\n",
              "      }\n",
              "      const blob = new Blob(buffers, {type: 'application/binary'});\n",
              "      const a = document.createElement('a');\n",
              "      a.href = window.URL.createObjectURL(blob);\n",
              "      a.download = filename;\n",
              "      div.appendChild(a);\n",
              "      a.click();\n",
              "      div.remove();\n",
              "    }\n",
              "  "
            ]
          },
          "metadata": {}
        },
        {
          "output_type": "display_data",
          "data": {
            "text/plain": [
              "<IPython.core.display.Javascript object>"
            ],
            "application/javascript": [
              "download(\"download_43b98831-3f77-476f-9da9-1dfdbf845fa6\", \"output.csv\", 9325)"
            ]
          },
          "metadata": {}
        }
      ]
    },
    {
      "cell_type": "code",
      "source": [],
      "metadata": {
        "id": "NwWd-lk28JWp"
      },
      "execution_count": null,
      "outputs": []
    }
  ]
}